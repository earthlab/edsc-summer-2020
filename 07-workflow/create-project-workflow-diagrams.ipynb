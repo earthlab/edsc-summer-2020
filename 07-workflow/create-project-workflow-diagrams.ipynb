{
 "cells": [
  {
   "cell_type": "markdown",
   "metadata": {},
   "source": [
    "<img style=\"float: left;\" src=\"../earth-lab-logo-rgb.png\" width=\"150\" height=\"150\">\n",
    "\n",
    "# Earth Data Science Corps Summer 2020\n",
    "\n",
    "![Colored Bar](../colored-bar.png)"
   ]
  },
  {
   "cell_type": "markdown",
   "metadata": {
    "colab_type": "text",
    "id": "XPh5cVqJI_u3"
   },
   "source": [
    "## What Is a Workflow Diagram?\n",
    "\n",
    "A workflow diagram\n",
    "represents a high level overview summary of the steps that you will need to complete \n",
    "to address the question that you are asking in your project. \n",
    "\n",
    "In the example diagram below, you will see a project that has two input \n",
    "datasets that are being used to create an output project. For this example,\n",
    "let's pretend that the output project is a map of areas that are the most \n",
    "vulnerable to drought conditions in your area. \n",
    "\n",
    "<img src=\"images/workflow1.png\">\n",
    "\n",
    "Looking at the diagram below imagine the following:\n",
    "\n",
    "1. **Input Data:** each green box (Branch #1 and Branch #2) represents the \n",
    "data that you will use to complete your project. Each data set may need to \n",
    "be processed separately at first, prior to beginning your analysis. \n",
    "\n",
    "2. **Cleaning / Processing:** Once you have identified the data that you need to \n",
    "use, you can then import and clean up the data. Cleaning steps may include things like:\n",
    "\n",
    "    * Remove NA or missing data values\n",
    "    * Exploring the data to see if there are any unusual values \n",
    "    * Clipping or filtering out parts off the data that you perhaps don't need for your analysis\n",
    "\n",
    "Once you have completed the data cleaning process, you are ready to analyze your data.\n",
    "\n",
    "3. **Analysis:** In this step you may manipulate the data to convert it into information \n",
    "that is usable for your analysis. Examples include:\n",
    "    * calculating a vegetation index such as NDVI\n",
    "    * performing classification on your data\n",
    "    * If your data are time series, perhaps this step involves summarizing and calculating statistics on the data. \n",
    "\n",
    "4. **Output Data:** Finally you might use your analysis to produce an output data set. Following the examples above, example outputs may include:\n",
    "    * a geotiff of NDVI for your region\n",
    "    * a classified raster\n",
    "    * a new .CSV file containing summarized time series values\n",
    "  \n",
    "*****\n",
    "\n",
    "### Branch 2 - A Second Input Data Set\n",
    "\n",
    "The steps above outlined the initial processing for a single dataset. But maybe your project will require\n",
    "more than one dataset. For example if you are working with remote sensing imagery, maybe there are \n",
    "vector boundaries (study area boundaries, county boundaries, etc) that you need to complete your final analysis. \n",
    "\n",
    "You will need to start the same process of opening, exploring and cleaning up that second dataset, prior to \n",
    "completing your final analysis. For instance, you may open up the vector data and discourse that is it \n",
    "in a different Coordinate Reference System than your imagery. You may need to clean up the data and \n",
    "reproject the data first, before trying to work with the two datasets together.\n"
   ]
  },
  {
   "cell_type": "markdown",
   "metadata": {
    "colab_type": "text",
    "id": "rpBXxrsjI3xF"
   },
   "source": [
    "## An Example Workflow Diagram\n",
    "\n",
    "<img src=\"images/workflow1.png\">"
   ]
  },
  {
   "cell_type": "markdown",
   "metadata": {
    "colab_type": "text",
    "id": "a-B60DwZm9g1"
   },
   "source": [
    "## Putting It All Together: Using Two Datasets in a Project\n",
    "\n",
    "Once you have cleaned up all of the data that you need for your project, you are ready to\n",
    "begin working with the data together. This is what the diagram below demonstrates as you\n",
    "may begin clean and process the data together starting a new \"branch\" of your workflow. \n",
    "\n",
    "### Save Intermediate Outputs\n",
    "\n",
    "In the example below, you may consider saving some of the intermediate outputs. This will \n",
    "save you time in the future if you need to redo your analysis. If you are processing \n",
    "truly large datasets, this will also save time if your workflow stalls while running. \n",
    "\n",
    "## There Are No Perfectly Linear Workflows\n",
    "\n",
    "Keep in mind that a workflow is rarely linear. Often times you spend additional time on the data cleanup steps, exploring your data and trying various clean up approaches. With that said, it is helpful to start with a linear sketch to help you organize your process, while not getting too overwhelmed by all of the steps involved. "
   ]
  },
  {
   "cell_type": "markdown",
   "metadata": {
    "colab_type": "text",
    "id": "xxPwcU5mm9g2"
   },
   "source": [
    "## Break Down Earth Data Science Workflow  Into Steps\n",
    "\n",
    "1. Define your question or challenge that your data analysis needs to address.\n",
    "\n",
    "The first step is to clarify the problem you are addressing with your data analysis. Hopefully at this point, you've already worked through the project message box, which is where you'd address this topic.  \n",
    "\n",
    "2. Define your project outcomes or end products \n",
    "\n",
    "In this step, you will define what you hope to produce in order to explain, predict, estimate, or build your question or challenge.\n",
    "\n",
    "3. Define the data that you will need to achieve these outcomes. \n",
    "\n",
    "Sometimes you know exactly what data you will need, but in other cases you may need to do some searching (see the next step). Regardless before you begin any actual work on your project you will need to identify the data that you will use!\n",
    "\n",
    "\n",
    "4. Has any work like this been done before?\n",
    "\n",
    "There is no need to reinvent the wheel when working with data. If someone else has a workflow that you can use or modify - consider starting there. Search online for papers, articles, blog posts that describe a similar goal and outcome that may be help inform your processing steps. \n",
    "\n",
    "Through this search you can start to:\n",
    "\n",
    "5. Identify what is needed to implement those methods and identify what methods you need to learn more about.\n",
    "\n",
    "Once you have done the work to address all of the steps above, you likely will have some questions. \n",
    "Take some time to identify what you need to learn more about. This is where you may ask \n",
    "someone who knows more than you do about this type of workflow for guidance! "
   ]
  },
  {
   "cell_type": "markdown",
   "metadata": {
    "colab_type": "text",
    "id": "VWPdgCu6I3xH"
   },
   "source": [
    "\n",
    "<img src=\"images/workflow2.png\">\n"
   ]
  },
  {
   "cell_type": "markdown",
   "metadata": {
    "colab_type": "text",
    "id": "fukiUdPkI3xJ"
   },
   "source": [
    "### 1. Identify Input Datasets (e.g. what data is needed and where you can find it?)\n",
    "\n",
    "Searching for datasets can be a time consuming step of any project, but getting the correct dataset for your analysis is crucial. Here are a few things that are important to keep in mind while searching for datasets: \n",
    "\n",
    "* Specify resolutions (e.g. spatial and temporal) and timeframes (e.g. dates needed for analysis). Your problem will have different needs resolution wise depending on what you're looking at. If, for example, you were looking at multi-decade deforestation patterns of the Amazon Rainforest as a whole, a low temporal and spatial resolution could work for your project. But if you were looking at recovery of a forested area from a small fire that happened last year, you would need a much higher spatial and temporal resolution. Sometimes, even if you find data that is technically correct for your project, it is still not useful for due to resolution limitations.\n",
    "* Specify data sources (e.g. public data portals like Earth Explorer, data from project partners). Once you know more specifically what type of data you are searching for, start identifying data sources that are appropriate for your project. Often, data can be collected from large publically available datsets, but not always. Because of this, it's important to ask:\n",
    "    * Are there datasets that you need but don't have yet? If you are collecting more specialized data, make sure your in contact with the agency you're collecting the data from. This is to make sure that the data still fits your project and can be ready for integration with your project.  \n",
    "\n",
    "<img src=\"images/workflow3.png\">"
   ]
  },
  {
   "cell_type": "markdown",
   "metadata": {
    "colab_type": "text",
    "id": "a7ip-2o-I3xM"
   },
   "source": [
    "## Time to Get Started On Your Project\n",
    "\n",
    "After you've done your workflow research, you are ready to begin building out your workflow.\n",
    "Below each step of a general workflow is discussed in more detail.\n",
    "\n",
    "### 2. Clean and Process Data (e.g. standardize, modify to study area or timeframe)\n",
    "\n",
    "As you've seen, data can be messy when it's distributed. It's important to clean up the data before running analysis on it. Some key tasks might be:\n",
    "* Data standardization tasks\n",
    "    * Data clean-up (e.g. data contain site names but they are not consistent such as SJER vs San Joaquin Experimental Range).\n",
    "    * Making data collected in different units or coordinate systems compatible with other datasets\n",
    "      * Pick the most appropriate units for the study area of your project and convert all your data to that standard.\n",
    "* Ensure that your analysis only covers the spatial and/or temporal extent needed for analysis.\n",
    "    * To spatially limit your analysis, you can crop your data to whatever your study area is.\n",
    "    * To temporally limit your analysis, you can ensure that the start and end dates of your data collection only cover the time period you are interested in. You can also summarize you data by the minimal time step needed (e.g. monthly, yearly) if it's temporal resolution is to high. \n",
    "* Add new attributes to your data. Not all datasets come complete with every piece of information, so make sure to add data to the dataset if you need to. \n",
    "    * Categorize or bin data as needed to aid with analysis.\n",
    "\n",
    "<img src=\"images/workflow4.png\">"
   ]
  },
  {
   "cell_type": "markdown",
   "metadata": {
    "colab_type": "text",
    "id": "FlLJA2vYI3xN"
   },
   "source": [
    "### 3. Analyze Your Data\n",
    "\n",
    "* Go back to the question or challenge you are trying to address, and determine the analysis that will turn your data (**input**) into something you can use (**output**). Below are some examples of types of analysis you might run on your data: \n",
    "    * Summarization\n",
    "    * Classification\n",
    "    * Raster calculation\n",
    "    * Vector overlay\n",
    "    * Linear Regression\n",
    "    * Other types of analysis not listed here!\n",
    "\n",
    "<img src=\"images/workflow5.png\">"
   ]
  },
  {
   "cell_type": "markdown",
   "metadata": {
    "colab_type": "text",
    "id": "KFaKSjLAI3xO"
   },
   "source": [
    "### 4. Determine Output Data Needs\n",
    "\n",
    "* What does the output need to look like (e.g. format, structure) to create your desired end product? Below are some possible outputs your analysis may produce:\n",
    "    * Classified raster image\n",
    "        * e.g. flooded area analysis, Normalized difference vegetation index (NDVI), to look at vegetation coverage of an area, land cover, etc. \n",
    "        * This could also be analysing images over time or at mutliple study sites.\n",
    "    * Spreadsheet of summary statistics that can later be turned into a plot.\n",
    "        * e.g. the mean of a variable over time and/or by study site\n",
    "* Here is where sketching a workflow really shines!\n",
    "    * **Map inputs to outputs** through cleaning and processing your data and running it through your chosen analysis.\n",
    "        \n",
    "<img src=\"images/workflow6.png\">"
   ]
  },
  {
   "cell_type": "markdown",
   "metadata": {
    "colab_type": "text",
    "id": "MLPadUzLI3xR"
   },
   "source": [
    "### 5. Create Desired End Product\n",
    "\n",
    "* Usually a visualization summarizing the outputs of the analysis you ran on your input data. Visualization is a powerful tool, and can be created in more than one way! (e.g. maps, plots)\n",
    "  * Think about choosing 3 key visualizations that summarize your results\n",
    "    * Check out <a href=\"https://www.edwardtufte.com/tufte/\" target=\"_blank\">Edward Tufte's work for inspiration</a>\n",
    "  * You can also create and/or clean up some these visuals outside of Jupyter Notebook and use Markdown to display them in Jupyter Notebook\n",
    "    * Sometimes it's easiest to modify visuals outside of Jupyter Notebook once you've produced them. This could be done to combine maps or plots, add text to images in Adobe or Powerpoint, etc. \n",
    "    * Use google drive, dropbox, etc. to provide a URL to any images that were produced outside of your jupyter notebook (e.g. all images in this presentation)\n",
    "        \n",
    "<img src=\"images/workflow2.png\">"
   ]
  },
  {
   "cell_type": "markdown",
   "metadata": {
    "colab_type": "text",
    "id": "DblZnWpHI3xV"
   },
   "source": [
    "### 6. Iterate Through and Expand Workflow as Needed\n",
    "\n",
    "* Workflows are rarely linear, and often consist of combining multiple workflows into one. Add branches to create intermediary products as needed for the end product. \n",
    "\n",
    "<img src=\"images/workflow1.png\">"
   ]
  },
  {
   "cell_type": "markdown",
   "metadata": {
    "colab_type": "text",
    "id": "egUZ2ZZeI3xW"
   },
   "source": [
    "## Tools for Drawing/Sketching Project Workflows\n",
    "\n",
    "* [Lucidchart](https://www.lucidchart.com/pages/) used for in-class demo\n",
    "* [List of other free tools](https://medium.com/pm101/8-flowcharts-and-diagrams-apps-837373859e87)"
   ]
  },
  {
   "cell_type": "markdown",
   "metadata": {
    "colab_type": "text",
    "id": "exGwW263I3xX"
   },
   "source": [
    "## Ideas for Getting Started with Sketching\n",
    "\n",
    "Any of these areas are great places to start:\n",
    "* Start with Data:\n",
    "    * Identify tasks needed to:\n",
    "        * clean data (e.g. remove null values, add/remove columns)\n",
    "        * standardize data (e.g. resample to same resolution)\n",
    "        * analyze data and produce output data\n",
    "    * Identify which tasks need to be repeated across a list of items (e.g. multiple sites)\n",
    "* Start with End Product:\n",
    "    * Identify the final output file(s) and the intermediary files needed to create it"
   ]
  },
  {
   "cell_type": "markdown",
   "metadata": {
    "colab_type": "text",
    "id": "UxjjSoNLI3xZ"
   },
   "source": [
    "## Other Suggestions For Project Success\n",
    "\n",
    "* Create a project plan/timeline \n",
    "    * Begin with a blank weekly\n",
    "        * Add weekly activities and milestones for project\n",
    "* Use <a href=\" https://www.smartsheet.com/blog/essential-guide-writing-smart-goals\" target=\"_blank\">SMART Goals </a> to Identify individual tasks\n",
    "    * Specific\n",
    "    * Measurable\n",
    "    * Achievable\n",
    "    * Relevant\n",
    "    * Time-bound\n",
    "* Map/Assign these tasks to the related milestone"
   ]
  }
 ],
 "metadata": {
  "celltoolbar": "Slideshow",
  "colab": {
   "collapsed_sections": [],
   "name": "create-project-workflow-diagrams.ipynb",
   "provenance": []
  },
  "kernelspec": {
   "display_name": "Python 3",
   "language": "python",
   "name": "python3"
  },
  "language_info": {
   "codemirror_mode": {
    "name": "ipython",
    "version": 3
   },
   "file_extension": ".py",
   "mimetype": "text/x-python",
   "name": "python",
   "nbconvert_exporter": "python",
   "pygments_lexer": "ipython3",
   "version": "3.7.6"
  },
  "toc": {
   "base_numbering": 1,
   "nav_menu": {},
   "number_sections": true,
   "sideBar": true,
   "skip_h1_title": false,
   "title_cell": "Table of Contents",
   "title_sidebar": "Contents",
   "toc_cell": false,
   "toc_position": {},
   "toc_section_display": true,
   "toc_window_display": true
  },
  "varInspector": {
   "cols": {
    "lenName": 16,
    "lenType": 16,
    "lenVar": 40
   },
   "kernels_config": {
    "python": {
     "delete_cmd_postfix": "",
     "delete_cmd_prefix": "del ",
     "library": "var_list.py",
     "varRefreshCmd": "print(var_dic_list())"
    },
    "r": {
     "delete_cmd_postfix": ") ",
     "delete_cmd_prefix": "rm(",
     "library": "var_list.r",
     "varRefreshCmd": "cat(var_dic_list()) "
    }
   },
   "types_to_exclude": [
    "module",
    "function",
    "builtin_function_or_method",
    "instance",
    "_Feature"
   ],
   "window_display": false
  }
 },
 "nbformat": 4,
 "nbformat_minor": 1
}
