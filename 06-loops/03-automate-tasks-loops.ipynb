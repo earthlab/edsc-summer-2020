{
 "cells": [
  {
   "cell_type": "markdown",
   "metadata": {},
   "source": [
    "<img style=\"float: left;\" src=\"../earth-lab-logo-rgb.png\" width=\"150\" height=\"150\">\n",
    "\n",
    "# Earth Data Science Corps Summer 2020\n",
    "\n",
    "![Colored Bar](../colored-bar.png)"
   ]
  },
  {
   "cell_type": "markdown",
   "metadata": {},
   "source": [
    "\n",
    "<div class='notice--success' markdown=\"1\">\n",
    "\n",
    "## <i class=\"fa fa-graduation-cap\" aria-hidden=\"true\"></i> Learning Objectives\n",
    "\n",
    "After completing this chapter, you will be able to:\n",
    "\n",
    "* Automate tasks using data structures such as lists, **numpy** arrays, and **pandas** dataframe.\n",
    "* Add the results of a loop to a new list. \n",
    "* Automate data downloads with **earthpy**.\n",
    " \n",
    "</div>\n",
    "\n",
    "\n",
    "As you have already learned, loops are very useful for removing repetition in your code. As such, they are great for automating tasks that you want to run on multiple values or data structures. Explore the examples below to see how you can automate tasks using data structures such as lists, **numpy** arrays, and **pandas** dataframe.\n",
    "\n",
    "\n",
    "## Automate Calculations on Values in Lists\n",
    "\n",
    "Recall that in the lessons on variables and lists, you learned how to run calculations on individual variables to convert the units, using average monthly precipitation values for <a href=\"https://www.esrl.noaa.gov/psd/boulder/Boulder.mm.precip.html\" target=\"_blank\">Boulder, Colorado, provided by the U.S. National Oceanic and Atmospheric Administration (NOAA)</a>.\n",
    "\n",
    "Month  | Precipitation (inches) |\n",
    "--- | --- |\n",
    "Jan | 0.70 |\n",
    "Feb | 0.75 |\n",
    "Mar | 1.85 |\n",
    "Apr | 2.93 |\n",
    "May | 3.05 |\n",
    "June | 2.02 |\n",
    "July | 1.93 |\n",
    "Aug | 1.62 |\n",
    "Sept | 1.84 |\n",
    "Oct | 1.31 |\n",
    "Nov | 1.39 |\n",
    "Dec | 0.84 |\n",
    "\n",
    "After you converted each variable, you then manually created a list that contained the recalculated values.\n",
    "\n",
    "Using a loop, you can automate this task, so that you recalculate each value in an existing list. \n",
    "\n",
    "### Create List of Values For Loop\n",
    "\n",
    "Begin by creating the list upon which your loop will execute. "
   ]
  },
  {
   "cell_type": "code",
   "execution_count": null,
   "metadata": {},
   "outputs": [],
   "source": [
    "# Create list of average monthly precip (inches) in Boulder, CO\n",
    "avg_monthly_precip_in = [0.70,  0.75, 1.85, 2.93, 3.05, 2.02, \n",
    "                         1.93, 1.62, 1.84, 1.31, 1.39, 0.84]"
   ]
  },
  {
   "cell_type": "markdown",
   "metadata": {},
   "source": [
    "### Write Loop\n",
    "\n",
    "Next, decide on the type of loop that will work best for your goal of running a calculation on each item of a list.\n",
    "\n",
    "In this case, you want to convert each item in a list from inches to millimeters (recall than 1 inch = 25.4 mm). So you have a fixed list of values upon which you want to iterate a calculation.\n",
    "\n",
    "Think about whether a `while` or `for` loop would work better for your task.\n",
    "\n",
    "Which type of loop structure is used in the code below?"
   ]
  },
  {
   "cell_type": "code",
   "execution_count": null,
   "metadata": {},
   "outputs": [],
   "source": [
    "# Convert each item in list from in to mm\n",
    "for month in avg_monthly_precip_in:\n",
    "    month *= 25.4\n",
    "    print(month)"
   ]
  },
  {
   "cell_type": "markdown",
   "metadata": {},
   "source": [
    "### Expand Loop To Add Results to New List\n",
    "\n",
    "In the loop above, each month's value is converted from inches to millimeters and the value is printed; however, the new value is not actually captured anywhere, as the original list is not updated. \n",
    "\n",
    "You can expand the loop with more code, so that each converted value is actually added to a new list.\n",
    "\n",
    "Previously in the textbook, you learned how to append items to the end of an existing list using `listname += [value]`, which employs an assignment operator to add the new values to the end of an existing list. \n",
    "\n",
    "You can add do this with your loop with only two new lines of code:\n",
    "1. First, you create an empty list that will receive new values using `listname = []`. \n",
    "2. Then, you can add a new line of code to append each value after it is calculated using `listname += [value]`. "
   ]
  },
  {
   "cell_type": "code",
   "execution_count": null,
   "metadata": {},
   "outputs": [],
   "source": [
    "# Create new empty to receive values\n",
    "avg_monthly_precip_mm = []\n",
    "\n",
    "# Convert each item from in to mm and add to new list\n",
    "for month in avg_monthly_precip_in:\n",
    "    month *= 25.4 \n",
    "    avg_monthly_precip_mm += [month] "
   ]
  },
  {
   "cell_type": "markdown",
   "metadata": {},
   "source": [
    "You can print the values in both lists to see that the original list has not changed, and that the new list contains the converted values. "
   ]
  },
  {
   "cell_type": "code",
   "execution_count": null,
   "metadata": {},
   "outputs": [],
   "source": [
    "# Print original list in inches\n",
    "print(avg_monthly_precip_in) \n",
    "    \n",
    "# Print new list after loop is complete\n",
    "print(avg_monthly_precip_mm) "
   ]
  },
  {
   "cell_type": "markdown",
   "metadata": {},
   "source": [
    "### Review the List Being Iterated Upon and the Placeholder in Loop\n",
    "\n",
    "Look carefully at how the variables `avg_monthly_precip_mm` and `month` are created. \n",
    "\n",
    "The list variable `avg_monthly_precip_mm` was explicitly created; in this case, you manually created the variable `avg_monthly_precip_mm` as an empty list.\n",
    "\n",
    "The variable `month` is the placeholder variable, meaning that it was not explicitly created by you. \n",
    "\n",
    "Rather, it is created as part of the loop and serves as a placeholder to represent each item from the original list (`avg_monthly_precip_in`), as the loop iterates. \n",
    "\n",
    "At the end of the loop, the placeholder variable is equal to the last value that it was assigned (e.g. `month` is equal to 21.336 when the loop ends). "
   ]
  },
  {
   "cell_type": "code",
   "execution_count": null,
   "metadata": {},
   "outputs": [],
   "source": [
    "# Final value of month\n",
    "month"
   ]
  },
  {
   "cell_type": "markdown",
   "metadata": {},
   "source": [
    "## Automate Summary Statistics on Multiple Numpy Arrays\n",
    "\n",
    "By now, you may be excited that you can automate these kinds of tasks, but you may also be thinking that you would prefer to iterate on **numpy** arrays or **pandas** dataframes, instead of working with data values in lists.\n",
    "\n",
    "You can do that, too! For example, you can build a loop that will calculate summary statistics (such as the sum or median values) of multiple data structures, such as **numpy** arrays. \n",
    "\n",
    "Recall that you can use the functions `np.sum()` and `np.median()` to calculate sum and median values of a **numpy** array.\n",
    "\n",
    "Begin by creating two **numpy** arrays containing the average monthly precipitation values in 2002 and 2013 for <a href=\"https://www.esrl.noaa.gov/psd/boulder/Boulder.mm.precip.html\" target=\"_blank\">Boulder, Colorado, provided by the U.S. National Oceanic and Atmospheric Administration (NOAA).</a> \n",
    "\n",
    "Month  | Precipitation (inches) in 2002 | Precipitation (inches) in 2013 |\n",
    "--- | --- | --- |\n",
    "Jan | 1.07 |0.27 |\n",
    "Feb | 0.44 |1.13 |\n",
    "Mar | 1.50 |1.72 |\n",
    "Apr | 0.20 |4.14 |\n",
    "May | 3.20 |2.66 |\n",
    "June | 1.18 |0.61 |\n",
    "July | 0.09 |1.03 |\n",
    "Aug | 1.44 |1.40 |\n",
    "Sept |1.52  |18.16 |\n",
    "Oct | 2.44 |2.24 |\n",
    "Nov | 0.78 |0.29 |\n",
    "Dec | 0.02 |0.50 |"
   ]
  },
  {
   "cell_type": "code",
   "execution_count": null,
   "metadata": {},
   "outputs": [],
   "source": [
    "# Import necessary packages\n",
    "import numpy as np\n",
    "\n",
    "# Array of average monthly precip (inches) for 2002 in Boulder, CO\n",
    "precip_2002_arr = np.array([1.07, 0.44, 1.50, 0.20, 3.20, 1.18, \n",
    "                            0.09, 1.44, 1.52, 2.44, 0.78, 0.02])\n",
    "\n",
    "# Array of average monthly precip (inches) for 2013 in Boulder, CO\n",
    "precip_2013_arr = np.array([0.27, 1.13, 1.72, 4.14, 2.66, 0.61, \n",
    "                            1.03, 1.40, 18.16, 2.24, 0.29, 0.50])"
   ]
  },
  {
   "cell_type": "markdown",
   "metadata": {},
   "source": [
    "### Create List of Numpy Arrays For Loop\n",
    "\n",
    "Just like in the previous example, begin by creating the list upon which your loop will iterate.\n",
    "\n",
    "As you want to iterate on multiple **numpy** arrays, you can create a list that contains the object names for all of the **numpy** arrays that you want to work with in the loop. "
   ]
  },
  {
   "cell_type": "code",
   "execution_count": null,
   "metadata": {},
   "outputs": [],
   "source": [
    "# Create list of numpy arrays\n",
    "arr_list = [precip_2002_arr, precip_2013_arr]"
   ]
  },
  {
   "cell_type": "markdown",
   "metadata": {},
   "source": [
    "### Write Loop\n",
    "\n",
    "Again, think about what type of loop would work best for this data. This time, you have a list of two object names, upon which you want to iterate a calculation: the **numpy** arrays for 2002 and 2013. \n",
    "\n",
    "Which type of loop structure is used in the code below?"
   ]
  },
  {
   "cell_type": "code",
   "execution_count": null,
   "metadata": {},
   "outputs": [],
   "source": [
    "# Calculate sum and median for each numpy array in list\n",
    "for arr in arr_list:    \n",
    "    arr_sum = np.sum(arr)\n",
    "    print(\"sum:\", arr_sum)\n",
    "    \n",
    "    arr_median = np.median(arr)    \n",
    "    print(\"median:\", arr_median)    "
   ]
  },
  {
   "cell_type": "markdown",
   "metadata": {},
   "source": [
    "Again, you can capture these values in new, separate lists by defining empty lists and using the assignment operator (`listname += [value]`) to add the results to each list."
   ]
  },
  {
   "cell_type": "code",
   "execution_count": null,
   "metadata": {},
   "outputs": [],
   "source": [
    "# Create new empty lists to receive values\n",
    "monthly_precip_sum = []\n",
    "monthly_precip_median = []\n",
    "\n",
    "# Calculate sum and median for each numpy array and add to new lists\n",
    "for arr in arr_list:    \n",
    "    arr_sum = np.sum(arr)\n",
    "    monthly_precip_sum += [arr_sum]\n",
    "    \n",
    "    arr_median = np.median(arr)    \n",
    "    monthly_precip_median += [arr_median]"
   ]
  },
  {
   "cell_type": "markdown",
   "metadata": {},
   "source": [
    "### Review the List Being Iterated Upon and the Placeholder in Loop\n",
    "\n",
    "In the example above, you explicitly created both `monthly_precip_sum` and `monthly_precip_median` as empty lists to which the loop results could be appended. \n",
    "\n",
    "So at the end of the loop, they are no longer empty, as they have been populated with the results of each iteration of the loop.   "
   ]
  },
  {
   "cell_type": "code",
   "execution_count": null,
   "metadata": {},
   "outputs": [],
   "source": [
    "# Lists contain the calculated values\n",
    "print(monthly_precip_sum)\n",
    "print(monthly_precip_median)"
   ]
  },
  {
   "cell_type": "markdown",
   "metadata": {},
   "source": [
    "The variable `arr` is the placeholder variable that is created as part of the loop and serves as a placeholder to represent each item from the original list (`arr_list`), as the loop iterates. \n",
    "\n",
    "At the end of the loop, `arr` is equal to the last value that it was assigned (e.g. `precip_2013_arr`, the last array in the list).\n",
    "\n",
    "Similarly, at the end of the loop, `arr_sum` and `arr_median` are also equal to the last value that was calculated for each (e.g. the sum and median values for `precip_2013_arr`."
   ]
  },
  {
   "cell_type": "code",
   "execution_count": null,
   "metadata": {},
   "outputs": [],
   "source": [
    "# Final value of arr\n",
    "print(arr)\n",
    "\n",
    "# Final value of arr_sum\n",
    "print(arr_sum)\n",
    "\n",
    "# Final value of arr_median\n",
    "print(arr_median)"
   ]
  },
  {
   "cell_type": "markdown",
   "metadata": {},
   "source": [
    "## Automate Calculation on Multiple Columns in Pandas Dataframe\n",
    "\n",
    "In addition to running a loop on multiple data structures (e.g multiple **numpy** arrays like in the previous example), you can also run loops on multiple columns of a **pandas** dataframe.\n",
    "\n",
    "For example, you may need to convert the measurement units of multiple columns, such as converting the precipitation values from inches to millimeters (1 inch = 25.4 millimeters). \n",
    "\n",
    "Begin by creating a new **pandas** dataframe of the same average monthly precipitation values in 2002 and 2013 for Boulder, CO. "
   ]
  },
  {
   "cell_type": "code",
   "execution_count": null,
   "metadata": {},
   "outputs": [],
   "source": [
    "# Import necessary packages\n",
    "import pandas as pd\n",
    "\n",
    "# Average monthly precip (inches) in 2002 and 2013 for Boulder, CO\n",
    "precip_2002_2013_df = pd.DataFrame(columns=[\"month\", \"precip_2002\", \"precip_2013\"],\n",
    "                                   data=[\n",
    "                                        [\"Jan\", 1.07, 0.27],   [\"Feb\", 0.44, 1.13],\n",
    "                                        [\"Mar\", 1.50, 1.72],   [\"Apr\", 0.20, 4.14],\n",
    "                                        [\"May\", 3.20, 2.66],   [\"June\", 1.18, 0.61],\n",
    "                                        [\"July\", 0.09, 1.03],  [\"Aug\", 1.44, 1.40],\n",
    "                                        [\"Sept\", 1.52, 18.16], [\"Oct\", 2.44, 2.24],\n",
    "                                        [\"Nov\", 0.78, 0.29],   [\"Dec\", 0.02, 0.50]\n",
    "                                   ])\n",
    "\n",
    "precip_2002_2013_df"
   ]
  },
  {
   "cell_type": "markdown",
   "metadata": {},
   "source": [
    "### Create List of Column Names\n",
    "\n",
    "Just like in the previous examples, begin by creating the list upon which your loop will iterate.\n",
    "\n",
    "As you want to iterate on multiple columns in a **pandas** dataframe, you can create a list that contains the column names that you want to work with in the loop. "
   ]
  },
  {
   "cell_type": "code",
   "execution_count": null,
   "metadata": {},
   "outputs": [],
   "source": [
    "# Create a list of column names\n",
    "cols = [\"precip_2002\", \"precip_2013\"]"
   ]
  },
  {
   "cell_type": "markdown",
   "metadata": {},
   "source": [
    "### Write Loop\n",
    "\n",
    "Once again, think about what type of loop would work best for this data. You have two columns in one **pandas** dataframe upon which you want to iterate a calculation: 2002 and 2013. \n",
    "\n",
    "Recall from previous chapters that you can use assignment operators recalculate columns in **pandas** dataframe: \n",
    "\n",
    "`df[\"column_name\"] *= 25.4` \n",
    "\n",
    "What do you notice about the syntax below that is a little different?"
   ]
  },
  {
   "cell_type": "code",
   "execution_count": null,
   "metadata": {},
   "outputs": [],
   "source": [
    "# Convert values for each column in cols list\n",
    "for column in cols:    \n",
    "    precip_2002_2013_df[column] *= 25.4\n",
    "\n",
    "# Print new values    \n",
    "precip_2002_2013_df"
   ]
  },
  {
   "cell_type": "markdown",
   "metadata": {},
   "source": [
    "### Review the List Being Iterated Upon and the Placeholder in Loop\n",
    "\n",
    "Note that because `column` is an implicit variable or placeholder for the columns in the list, you do not need to use quotations `\"\"` to indicate a specific column name in the loop such as `\"precip_2002\"`. \n",
    "\n",
    "In the first iteration, `column` would contain the values in the `precip_2002` column, while in the last iteration, `column` would contain the values in the `precip_2013` column.\n",
    "\n",
    "You know you are using an implicit variable because the column name will change with each iteration.\n",
    "\n",
    "Also, notice the placement of code `precip_2002_2013` to display the dataframe *after* the loop is completed. \n",
    "\n",
    "This code is not contained with the loop, so you do not see the dataframe each time that the loop iterates. You only see the dataframe when the loop is completed. "
   ]
  },
  {
   "cell_type": "markdown",
   "metadata": {},
   "source": [
    "## Automate Data Downloads Using EarthPy\n",
    "\n",
    "Imagine that you have multiple URLs from which you need to download data for a workflow. Rather than writing out the same code to download each file at time, you can use a loop to download all of these files using one set of code. \n",
    "\n",
    "Begin by importing the necessary package, **earthpy**, which is needed to access the `get_data()` function. You will also use **os** to print the contents of the default data directory."
   ]
  },
  {
   "cell_type": "code",
   "execution_count": null,
   "metadata": {},
   "outputs": [],
   "source": [
    "# Import necessary packages\n",
    "import os\n",
    "import earthpy as et"
   ]
  },
  {
   "cell_type": "markdown",
   "metadata": {},
   "source": [
    "### Create List of URLs For Loop\n",
    "\n",
    "Just like in the previous examples, begin by creating the list upon which your loop will iterate.\n",
    "\n",
    "As you want to iterate on multiple URLs, you can create a list that contains the URLs for all of the files that you want to download.\n",
    "\n",
    "In this case, it is useful to create variables for the individual URLs first, so that you can easily manage them as well as make the code more readable.  "
   ]
  },
  {
   "cell_type": "code",
   "execution_count": null,
   "metadata": {},
   "outputs": [],
   "source": [
    "# URL for avg monthly precip (inches) for Boulder, CO\n",
    "avg_month_precip_url = 'https://ndownloader.figshare.com/files/12565616'\n",
    "\n",
    "# URL for precip data for 2002 and 2013 (inches) for array\n",
    "precip_2002_2013_url = 'https://ndownloader.figshare.com/files/12707792'\n",
    "\n",
    "# Create list of URLs\n",
    "urls = [avg_month_precip_url, precip_2002_2013_url]"
   ]
  },
  {
   "cell_type": "markdown",
   "metadata": {},
   "source": [
    "### Write Loop\n",
    "\n",
    "Once again, think about what type of loop would work best for this task. You have a list of URLs upon which you want to iterate some code, which in this case is `et.data.get_data()` to download each file."
   ]
  },
  {
   "cell_type": "code",
   "execution_count": null,
   "metadata": {
    "lines_to_next_cell": 0
   },
   "outputs": [],
   "source": [
    "# Download each url in list\n",
    "for file_url in urls:\n",
    "    et.data.get_data(url=file_url)"
   ]
  },
  {
   "cell_type": "markdown",
   "metadata": {},
   "source": [
    "### Review the List Being Iterated Upon and the Placeholder in Loop\n",
    "\n",
    "Note that in order for `et.data.get_data()` to execute successfully, you must specify that the parameter `url` for the function is equal to the placeholder, which in this example is `file_url`. \n",
    "\n",
    "This is a specific requirement of this function, as `et.data.get_data(url)` will result in an error that `url` is not a valid key for a dataset in **earthpy** (see more details in the\n",
    "<a href=\"https://earthpy.readthedocs.io/en/latest/gallery_vignettes/get_data.html#sphx-glr-gallery-vignettes-get-data-py\" target=\"_blank\">code examples for earthpy</a>).\n",
    "\n",
    "```\n",
    "KeyError: \"Key not found in earthpy.io.DATA_URLS\n",
    "```\n",
    "\n",
    "With the correct syntax shown in the example above, the loop will execute `et.data.get_data(url=file_url)` successfully on the URLs provided in the list. \n",
    "\n",
    "In the first iteration, `file_url` is set to `avg_month_precip_url`, and then in the last iteration, `file_url` is set to `precip_2002_2013_url`.\n",
    "\n",
    "\n",
    "### Check Files in Directory\n",
    "\n",
    "You can see that when using `et.data.get_data()` in a loop, you no longer get the path printed for each downloaded file. \n",
    "\n",
    "However, you can use another function from the **os** package to list the contents (i.e. files and subdirectories) of a directory: `os.listdir()`. \n",
    "\n",
    "Recall that by default, **earthpy** downloads files to a subdirectory called `earthpy-downloads` under the `data` directory in the `earth-analytics` directory (e.g. `earth-analytics/data/earthpy-downloads/`).\n",
    "\n",
    "With this knowledge, you can define a path to this directory and provide that path to the function `os.listdir()` to list out the contents of that directory. \n",
    "\n",
    "The files that you downloaded with the loop above will be listed in the contents of the directory."
   ]
  },
  {
   "cell_type": "code",
   "execution_count": null,
   "metadata": {},
   "outputs": [],
   "source": [
    "# Create path for data directory\n",
    "data_dir = os.path.join(et.io.HOME, \"earth-analytics\", \n",
    "                        \"data\", \"earthpy-downloads\")\n",
    "\n",
    "os.listdir(data_dir)"
   ]
  },
  {
   "cell_type": "markdown",
   "metadata": {},
   "source": [
    "Congratulations - you have automated your first tasks in this textbook using **Python**!\n",
    "\n",
    "In the next chapter, you will learn how to write custom functions in **Python**, so that you can customize your code as needed to reduce repetition and automate tasks even further. "
   ]
  }
 ],
 "metadata": {
  "celltoolbar": "Edit Metadata",
  "kernelspec": {
   "display_name": "Python 3",
   "language": "python",
   "name": "python3"
  },
  "language_info": {
   "codemirror_mode": {
    "name": "ipython",
    "version": 3
   },
   "file_extension": ".py",
   "mimetype": "text/x-python",
   "name": "python",
   "nbconvert_exporter": "python",
   "pygments_lexer": "ipython3",
   "version": "3.7.6"
  },
  "toc": {
   "base_numbering": 1,
   "nav_menu": {},
   "number_sections": true,
   "sideBar": true,
   "skip_h1_title": false,
   "title_cell": "Table of Contents",
   "title_sidebar": "Contents",
   "toc_cell": false,
   "toc_position": {},
   "toc_section_display": true,
   "toc_window_display": false
  },
  "varInspector": {
   "cols": {
    "lenName": 16,
    "lenType": 16,
    "lenVar": 40
   },
   "kernels_config": {
    "python": {
     "delete_cmd_postfix": "",
     "delete_cmd_prefix": "del ",
     "library": "var_list.py",
     "varRefreshCmd": "print(var_dic_list())"
    },
    "r": {
     "delete_cmd_postfix": ") ",
     "delete_cmd_prefix": "rm(",
     "library": "var_list.r",
     "varRefreshCmd": "cat(var_dic_list()) "
    }
   },
   "types_to_exclude": [
    "module",
    "function",
    "builtin_function_or_method",
    "instance",
    "_Feature"
   ],
   "window_display": false
  }
 },
 "nbformat": 4,
 "nbformat_minor": 2
}
