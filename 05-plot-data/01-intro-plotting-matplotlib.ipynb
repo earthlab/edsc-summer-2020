{
 "cells": [
  {
   "cell_type": "markdown",
   "metadata": {},
   "source": [
    "<img style=\"float: left;\" src=\"../earth-lab-logo-rgb.png\" width=\"150\" height=\"150\">\n",
    "\n",
    "# Earth Data Science Corps Summer 2020\n",
    "\n",
    "![Colored Bar](../colored-bar.png)"
   ]
  },
  {
   "cell_type": "markdown",
   "metadata": {},
   "source": [
    "<div class='notice--success' markdown=\"1\">\n",
    "\n",
    "## <i class=\"fa fa-ship\" aria-hidden=\"true\"></i> Introduction to Plotting with Matplotlib\n",
    "\n",
    "In these lessons, you will learn how to create and customize plots in **Python** using **matplotlib**, including how to create different types of plots and customize plot colors and labels. \n",
    "\n",
    "## <i class=\"fa fa-graduation-cap\" aria-hidden=\"true\"></i> Learning Objectives\n",
    "\n",
    "After completing this lesson, you will be able to:\n",
    "\n",
    "* Explain the **matplotlib** object-oriented approach to plotting. \n",
    "* Use **matplotlib** to create scatter, line and bar plots.\n",
    "* Customize the labels, colors and look of your **matplotlib** plot.\n",
    "* Create figures with multiple plots.\n",
    "* Save figure as an image file (e.g. .png format).\n",
    "\n",
    "## Overview of Plotting with Matplotlib\n",
    "\n",
    "<a href=\"https://matplotlib.org/\" target=\"_blank\">**Matplotlib**</a> is a **Python** plotting package that makes it simple to create two-dimensional plots from data stored in a variety of data structures including lists, **numpy** arrays, and **pandas** dataframes. \n",
    "\n",
    "**Matplotlib** uses an object oriented approach to plotting. This means that plots can be built step-by-step by adding new elements to the plot. \n",
    "\n",
    "There are two primary objects associated with a **matplotlib** plot:\n",
    "* `figure` object: the overall figure space that can contain one or more plots.\n",
    "* `axis` objects: the individual plots that are rendered within the figure.\n",
    "\n",
    "You can think of the figure object as your plot canvas. You can think about the axis object as an individual plot. \n",
    "\n",
    "A figure can hold one or more axis objects. This structure allows you to create figures with one or more plots on them.\n",
    "\n",
    "<figure>\n",
    " <a href=\"https://www.earthdatascience.org/images/earth-analytics/plot-data/fig-1-plot.png\">\n",
    " <img src=\"https://www.earthdatascience.org/images/earth-analytics/plot-data/fig-1-plot.png\" alt=\"A figure created using matplotlib can contain one or many plots, or axis objects. Source: Earth Lab, Alana Faller\"></a>\n",
    " <figcaption> A figure created using matplotlib can contain one or many plots, or axis objects. Source: Earth Lab, Alana Faller\n",
    " </figcaption>\n",
    "</figure>\n",
    "\n",
    "\n",
    "While **Matplotlib** contains many modules that provide different plotting functionality, the most commonly used module is <a href=\"https://matplotlib.org/api/index.html#the-pyplot-api\" target=\"_blank\">**pyplot**</a>. \n",
    "\n",
    "**Pyplot** provides methods that can be used to add different components to `figure` objects, including creating the individual plots as `axis` objects, also known as subplots.\n",
    "\n",
    "The **pyplot** module is typically imported using the alias `plt` as demonstrated below."
   ]
  },
  {
   "cell_type": "code",
   "execution_count": 1,
   "metadata": {},
   "outputs": [],
   "source": [
    "# Import pyplot\n",
    "import matplotlib.pyplot as plt"
   ]
  },
  {
   "cell_type": "markdown",
   "metadata": {},
   "source": [
    "## Create Plots Using Matplotlib\n",
    "\n",
    "To create a plot using matplotlib's object oriented approach, you first create the figure (which you can call `fig`) and at least one axis (which you can call `ax`) using the `subplots()` function from the `pyplot` module:\n",
    "\n",
    "`fig, ax = plt.subplots()`\n",
    "\n",
    "Notice that the `fig` and `ax` are created at the same time by setting them equal to the output of the `pyplot.subplots()` function. As no other arguments have been provided, the result is a figure with one plot that is empty but ready for data. \n",
    "\n",
    "<div class='notice--success alert alert-info' markdown=\"1\">\n",
    "\n",
    "<i class=\"fa fa-star\"></i> **Data Tip:** In the example above, `fig` and `ax` are variable names for the figure and axis objects. You can call these items whatever you want. For example, you might see `f`, `ax` or `fig`, `axis1` used. \n",
    "{: .notice--success }\n"
   ]
  },
  {
   "cell_type": "code",
   "execution_count": 2,
   "metadata": {
    "caption": "When you create a figure object, you are creating a blank canvas upon which to place a plot."
   },
   "outputs": [
    {
     "data": {
      "image/png": "[encoded data removed]",
      "text/plain": [
       "<Figure size 432x288 with 1 Axes>"
      ]
     },
     "metadata": {
      "needs_background": "light"
     },
     "output_type": "display_data"
    }
   ],
   "source": [
    "# Create figure and one plot (axis object) \n",
    "fig, ax = plt.subplots()"
   ]
  },
  {
   "cell_type": "markdown",
   "metadata": {},
   "source": [
    "## Change Figure Size \n",
    "\n",
    "You can change the size of your figure using the argument `figsize` to specify a width and height for your figure: \n",
    "\n",
    "`figsize = (width, height)`"
   ]
  },
  {
   "cell_type": "code",
   "execution_count": 3,
   "metadata": {
    "caption": "When you create a figure object, you can define the figure size by providing a width and height value (width, height)."
   },
   "outputs": [
    {
     "data": {
      "image/png": "[encoded data removed]",
      "text/plain": [
       "<Figure size 720x432 with 1 Axes>"
      ]
     },
     "metadata": {
      "needs_background": "light"
     },
     "output_type": "display_data"
    }
   ],
   "source": [
    "# Resize figure\n",
    "fig, ax = plt.subplots(figsize = (10, 6))"
   ]
  },
  {
   "cell_type": "markdown",
   "metadata": {},
   "source": [
    "## Multi-plot Figures\n",
    "\n",
    "Using matplotlib's object-oriented approach makes it easier to include more than one plot in a figure by creating additional `axis` objects. \n",
    "\n",
    "<figure>\n",
    " <a href=\"https://www.earthdatascience.org/images/earth-analytics/plot-data/fig-2-plots.png\">\n",
    " <img src=\"https://www.earthdatascience.org/images/earth-analytics/plot-data/fig-2-plots.png\" alt=\"A figure created using matplotlib can contain many plots, or axis objects. Source: Earth Lab, Alana Faller\"></a>\n",
    " <figcaption> A figure created using matplotlib can contain many plots, or axis objects. Source: Earth Lab, Alana Faller\n",
    " </figcaption>\n",
    "</figure>\n",
    "\n",
    "<figure>\n",
    " <a href=\"https://www.earthdatascience.org/images/earth-analytics/plot-data/fig-4-plots.png\">\n",
    " <img src=\"https://www.earthdatascience.org/images/earth-analytics/plot-data/fig-4-plots.png\" alt=\"When creating a figure with multiple axis objects, you can arrange the plots across multiple rows and columns. Source: Earth Lab, Alana Faller\"></a>\n",
    " <figcaption> When creating a figure with multiple axis objects, you can arrange the plots across multiple rows and columns. Source: Earth Lab, Alana Faller\n",
    " </figcaption>\n",
    "</figure>\n",
    "\n",
    "\n",
    "When adding more than one `axis` object, it is good practice to give them distinct names (such as `ax1` and `ax2`), so you can easily work with each `axis` individually.\n",
    "\n",
    "You will need to provide new arguments to `plt.subplots` for the layout of the figure: number of rows and columns:\n",
    "\n",
    "`plt.subplots(1, 2)`\n",
    "\n",
    "In this example, `1, 2` indicates that you want the plot layout to be 1 row across 2 columns."
   ]
  },
  {
   "cell_type": "code",
   "execution_count": 4,
   "metadata": {
    "caption": "You can create figures with multiple plots by adding additional axis objects (e.g. ax1, ax2)."
   },
   "outputs": [
    {
     "data": {
      "image/png": "[encoded data removed]",
      "text/plain": [
       "<Figure size 720x432 with 2 Axes>"
      ]
     },
     "metadata": {
      "needs_background": "light"
     },
     "output_type": "display_data"
    }
   ],
   "source": [
    "# Figure with two plots\n",
    "fig, (ax1, ax2) = plt.subplots(1, 2, figsize = (10, 6))"
   ]
  },
  {
   "cell_type": "markdown",
   "metadata": {},
   "source": [
    "Conversely, `2, 1` indicates that you want the plot layout to be 2 rows across one column."
   ]
  },
  {
   "cell_type": "code",
   "execution_count": 5,
   "metadata": {
    "caption": "You can change the layout of the figure to specify how many rows and columns you want to use to display the plots."
   },
   "outputs": [
    {
     "data": {
      "image/png": "[encoded data removed]",
      "text/plain": [
       "<Figure size 720x432 with 2 Axes>"
      ]
     },
     "metadata": {
      "needs_background": "light"
     },
     "output_type": "display_data"
    }
   ],
   "source": [
    "# Figure with two plots\n",
    "fig, (ax1, ax2) = plt.subplots(2, 1, figsize = (10, 6))"
   ]
  },
  {
   "cell_type": "markdown",
   "metadata": {},
   "source": [
    "Because you have defined `figsize=(10, 6)`, the figure space remains the same size regardless of how many rows or columns you request. \n",
    "\n",
    "You can play around with both the number of rows and columns as well as `figsize` to arrive at the look that you want. "
   ]
  },
  {
   "cell_type": "code",
   "execution_count": 6,
   "metadata": {
    "caption": "You can adjust the figshare as well as the number of rows and columns for a figure layout, in order to achieve the desired layout of the plots."
   },
   "outputs": [
    {
     "data": {
      "image/png": "[encoded data removed]",
      "text/plain": [
       "<Figure size 864x864 with 2 Axes>"
      ]
     },
     "metadata": {
      "needs_background": "light"
     },
     "output_type": "display_data"
    }
   ],
   "source": [
    "# Figure with two plots\n",
    "fig, (ax1, ax2) = plt.subplots(2, 1, figsize = (12, 12))"
   ]
  },
  {
   "cell_type": "markdown",
   "metadata": {},
   "source": [
    "You can continue to add as many as `axis` objects as you need to create the overall layout of the desired figure and continue adjusting the `figsize` as needed.  "
   ]
  },
  {
   "cell_type": "code",
   "execution_count": 7,
   "metadata": {
    "caption": "You can continue to add multiple plots to your figure by adding additional axis objects (e.g. ax1, ax2, ax3)."
   },
   "outputs": [
    {
     "data": {
      "image/png": "[encoded data removed]",
      "text/plain": [
       "<Figure size 1080x1080 with 3 Axes>"
      ]
     },
     "metadata": {
      "needs_background": "light"
     },
     "output_type": "display_data"
    }
   ],
   "source": [
    "# Figure with three plots\n",
    "fig, (ax1, ax2, ax3) = plt.subplots(3, 1, figsize = (15, 15))"
   ]
  },
  {
   "cell_type": "markdown",
   "metadata": {},
   "source": [
    "A key benefit of the **matplotlib** object oriented approach is that each `axis` is its own object and can be customized independently of the other plots in the figure. "
   ]
  }
 ],
 "metadata": {
  "anaconda-cloud": {},
  "celltoolbar": "Edit Metadata",
  "jupytext": {
   "formats": "ipynb,md"
  },
  "kernelspec": {
   "display_name": "Python 3",
   "language": "python",
   "name": "python3"
  },
  "language_info": {
   "codemirror_mode": {
    "name": "ipython",
    "version": 3
   },
   "file_extension": ".py",
   "mimetype": "text/x-python",
   "name": "python",
   "nbconvert_exporter": "python",
   "pygments_lexer": "ipython3",
   "version": "3.7.6"
  },
  "toc": {
   "toc_cell": false,
   "toc_number_sections": false,
   "toc_threshold": "2",
   "toc_window_display": false
  },
  "varInspector": {
   "cols": {
    "lenName": 16,
    "lenType": 16,
    "lenVar": 40
   },
   "kernels_config": {
    "python": {
     "delete_cmd_postfix": "",
     "delete_cmd_prefix": "del ",
     "library": "var_list.py",
     "varRefreshCmd": "print(var_dic_list())"
    },
    "r": {
     "delete_cmd_postfix": ") ",
     "delete_cmd_prefix": "rm(",
     "library": "var_list.r",
     "varRefreshCmd": "cat(var_dic_list()) "
    }
   },
   "types_to_exclude": [
    "module",
    "function",
    "builtin_function_or_method",
    "instance",
    "_Feature"
   ],
   "window_display": false
  }
 },
 "nbformat": 4,
 "nbformat_minor": 2
}
