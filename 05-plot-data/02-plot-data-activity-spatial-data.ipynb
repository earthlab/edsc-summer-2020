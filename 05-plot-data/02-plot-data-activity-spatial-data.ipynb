{
 "cells": [
  {
   "cell_type": "markdown",
   "metadata": {},
   "source": [
    "<img style=\"float: left;\" src=\"../earth-lab-logo-rgb.png\" width=\"150\" height=\"150\">\n",
    "\n",
    "# Earth Data Science Corps Summer 2020\n",
    "\n",
    "![Colored Bar](../colored-bar.png)"
   ]
  },
  {
   "cell_type": "markdown",
   "metadata": {},
   "source": [
    "\n",
    "<div class='notice--success' markdown=\"1\">\n",
    "\n",
    "## <i class=\"fa fa-graduation-cap\" aria-hidden=\"true\"></i> Challenge: Plot Different Types of Spatial Data Using Open Source Python\n",
    "\n",
    "Throughout these chapters, you've learned a lot on how to plot many different types of data. You've used a combination of multiple libraries to plot data, including **pandas**, **geopandas**, **matplotlib**, **earthpy**, and various others. This challenge will challenge you to use the appropriate packages and tools to plot each type of data that have been covered so far. First, you will plot out various forms of vector data, then raster data, and finally you will plot a combination of the raster and vector data. \n",
    "</div>"
   ]
  },
  {
   "cell_type": "code",
   "execution_count": 1,
   "metadata": {},
   "outputs": [],
   "source": [
    "# Import Packages\n",
    "\n",
    "import os\n",
    "from glob import glob\n",
    "import matplotlib.pyplot as plt\n",
    "import seaborn as sns\n",
    "import pandas as pd\n",
    "import geopandas as gpd\n",
    "import rasterio as rio\n",
    "from rasterio.plot import plotting_extent\n",
    "import folium\n",
    "import earthpy as et\n",
    "import earthpy.plot as ep\n",
    "import earthpy.spatial as es\n",
    "\n",
    "import warnings\n",
    "warnings.filterwarnings('ignore', 'GeoSeries.notna', UserWarning)\n",
    "\n",
    "# Add seaborn general plot specifications\n",
    "sns.set(font_scale=1.5, style=\"whitegrid\")"
   ]
  },
  {
   "cell_type": "markdown",
   "metadata": {},
   "source": [
    "<div class=\"notice--warning\" markdown=\"1\">\n",
    "\n",
    "## <i class=\"fa fa-pencil-square-o\" aria-hidden=\"true\"></i> Challenge 1: Create a Map Of RMNP Trails for the South Zone of the Park\n",
    "\n",
    "The first plot you are going to make is a vector plot that displays \n",
    "hiking trails in Rocky Mountain National Park (RMNP) - which is located in Colorado. \n",
    "\n",
    "To make this plot, do the following: \n",
    "\n",
    "1. Read in the trails, trailsheads and ranger zones data for the Rocky Mountain National Park trails and the National Parks Service boundaries. The code to open the data is in the cell below for you to run.\n",
    "2. Create a new GeoDataFrame that only contains the South Zone of the RMNP ranger zones `ranger_zones[ranger_zones[\"SUBDISTRIC\"] == \"SOUTH\"]` data  for the park.\n",
    "3. Change the Coordinate Reference System of the boundary dataset to match the trails dataset. To get the Coordinate Reference System of the trails dataset, you can use `trails_dataframe_name.crs`. To set it to the boundary dataset, you can use the `to_crs()` function like so: `boundary_dataframe_name.to_crs(trails_dataframe_name.crs)`\n",
    "4. Plot the trails data and the trailheads data together in a map. \n",
    "5. Add the polygon boundary of the South Ranger zone to the map. \n",
    "6. Change the symbology for the lines and points on the map. For lines, you will change the `linestyle=` argument [options for this argument here](https://matplotlib.org/3.1.0/gallery/lines_bars_and_markers/linestyles.html) and for points you will modify the `marker=` arguement [options for this argument here](https://matplotlib.org/api/markers_api.html).\n",
    "7. We want a legend for this map, to show the symbology of trails and trail heads. To create this, in the plotting functions for your GeoDataFrames, add an argument `label=` and set it to what you want to call the trails and trailheads on your maps. Also, make sure you have the following lines of code in your plot. It will grab the labels you set in the plot functions and add them to the legend. \n",
    "```\n",
    "handles, labels = ax.get_legend_handles_labels()\n",
    "ax.legend(handles, labels)\n",
    "```\n",
    "8. Add a title to your plot. \n",
    "\n",
    "</div>\n",
    "\n",
    "****\n",
    "\n",
    "<div class='notice--success alert alert-info' markdown=\"1\">\n",
    "\n",
    "<i class=\"fa fa-star\"></i> **Data Tip:** For help with this challenge, see your previous activities involving vector plotting, [this chapter explaining reprojecting data into a new CRS](https://www.earthdatascience.org/courses/use-data-open-source-python/use-time-series-data-in-python/) from the EarthLab website, or [this chapter covering vector and legend plotting](https://www.earthdatascience.org/courses/scientists-guide-to-plotting-data-in-python/plot-spatial-data/customize-vector-plots/python-customize-map-legends-geopandas/). \n",
    "\n",
    "</div>"
   ]
  },
  {
   "cell_type": "code",
   "execution_count": 2,
   "metadata": {},
   "outputs": [],
   "source": [
    "# Open RMNP Boundary -- we might not need this\n",
    "# RMNP Boundary Layer: Lat lon 4326 -- direct download\n",
    "rmnp_boundary = gpd.read_file(\n",
    "    \"https://opendata.arcgis.com/datasets/7cb5f22df8c44900a9f6632adb5f96a5_0.geojson\")"
   ]
  },
  {
   "cell_type": "code",
   "execution_count": 3,
   "metadata": {},
   "outputs": [],
   "source": [
    "# Trails are UTM Zone 13N --  reproject to lat long\n",
    "rmnp_trails = gpd.read_file(\n",
    "    \"https://opendata.arcgis.com/datasets/e1e0bcb87eb94960bc04f76e03936385_0.geojson\")\n",
    "rmnp_trails_4326 = rmnp_trails.to_crs(rmnp_boundary.crs)"
   ]
  },
  {
   "cell_type": "code",
   "execution_count": 4,
   "metadata": {},
   "outputs": [],
   "source": [
    "# Open ranger zones  - EPSG 4326\n",
    "ranger_zones = gpd.read_file(\n",
    "    \"https://opendata.arcgis.com/datasets/fdffd3272ba546da9176416b814d2e8f_0.geojson\")\n",
    "\n",
    "# Trailheads - 4326\n",
    "trailheads = gpd.read_file(\n",
    "    \"https://opendata.arcgis.com/datasets/55748f2f1d8a4db7aa26f7549e74be57_0.geojson\")"
   ]
  },
  {
   "cell_type": "code",
   "execution_count": 5,
   "metadata": {
    "tags": [
     "hide"
    ]
   },
   "outputs": [],
   "source": [
    "# Subset trails to include only trails for ranger subdistrict SOUTH\n",
    "\n",
    "# Clip the trails and trailheads data\n"
   ]
  },
  {
   "cell_type": "code",
   "execution_count": 6,
   "metadata": {
    "tags": [
     "hide"
    ]
   },
   "outputs": [],
   "source": [
    "# Add code to plot the trail data here\n"
   ]
  },
  {
   "cell_type": "markdown",
   "metadata": {},
   "source": [
    "<div class=\"notice--warning\" markdown=\"1\">\n",
    "\n",
    "## <i class=\"fa fa-pencil-square-o\" aria-hidden=\"true\"></i> Challenge 2: Overlay a Terrain Model on top of a Hillshade  \n",
    "\n",
    "Next you will create a base map to put your trails on. In order to do this, you will use a Digital Elevation Model (`USGS_1_n41w106.tif`) for RMNP. The code to download the DEM is in the cell below. Once that is downloaded, you must complete the following steps to create the hillshade and plot the two rasters on top of each other. \n",
    "\n",
    "1. Read in the USGS DEM into a numpy array using rasterio. \n",
    "2. Clip the data to the extent of the south zone boundary you plotted earlier using this syntax inside of the context manager you used to open the array: \n",
    "```clipped_data, clipped_metadata = es.crop_image(rasterio_variable_name, south_zone_geodataframe_variable_name)```\n",
    "3. Create a hillshade from the clipped DEM using the syntax: `es.hillshade(dem-numpy-array-name-here)`. This function outputs a numpy array with the hillshade data.\n",
    "4. Overlay the clipped DEM array on top of the hillshade array you just created. \n",
    "5. Be sure to add a title to your plot.\n",
    "\n",
    "</div>\n",
    "\n",
    "*****\n",
    "\n",
    "<div class='notice--success alert alert-info' markdown=\"1\">\n",
    "\n",
    "<i class=\"fa fa-star\"></i> **Data Note:** The data for this challenge was acquired through the [National Map](https://viewer.nationalmap.gov/basic/), a website that the U.S. Geological Survey uses to distribute data. This data is a DEM with 30 Meter resolution, which is to say that every pixel of the image represents a 30 by 30 meter square on the ground. \n",
    "\n",
    "</div>\n",
    "\n",
    "*****\n",
    "\n",
    "<div class='notice--success alert alert-info' markdown=\"1\">\n",
    "\n",
    "<i class=\"fa fa-star\"></i> **Data Tip:** For help with this challenge, please see [this chapter](https://www.earthdatascience.org/courses/scientists-guide-to-plotting-data-in-python/plot-spatial-data/customize-raster-plots/) on the EarthLab website covering raster data plots, as well as your previous lessons on plotting raster data. \n",
    "\n",
    "</div>"
   ]
  },
  {
   "cell_type": "code",
   "execution_count": 7,
   "metadata": {},
   "outputs": [],
   "source": [
    "# All these data are 4326 so reprojecting to that above makes sense\n",
    "et.data.get_data(url=\"https://ndownloader.figshare.com/files/23399609\")\n",
    "os.chdir(os.path.join(et.io.HOME, \"earth-analytics\", \"data\"))\n",
    "ned_30m_path = os.path.join(\"earthpy-downloads\", \"USGS_1_n41w106.tif\")"
   ]
  },
  {
   "cell_type": "code",
   "execution_count": 8,
   "metadata": {},
   "outputs": [],
   "source": [
    "# Open the data, create a hillshade in this cell\n"
   ]
  },
  {
   "cell_type": "code",
   "execution_count": null,
   "metadata": {},
   "outputs": [],
   "source": [
    "# Add code to plot your final challenge data in this cell\n"
   ]
  },
  {
   "cell_type": "markdown",
   "metadata": {},
   "source": [
    "<div class=\"notice--warning\" markdown=\"1\">\n",
    "\n",
    "## <i class=\"fa fa-pencil-square-o\" aria-hidden=\"true\"></i> Challenge 3: Overlay Trails on top of Elevation Data.\n",
    "\n",
    "Next you will overlay the trails data on top of the elevation data that you plotted above.\n",
    "Keep in mind a few things when you do this\n",
    "\n",
    "1. You will need to create a plotting_extent object to use in the `extent=` plot parameter in `ep.plot_bands()` to ensure that your raster data line up with the vector data. Make sure you use the data and metadata that was the output of your clip to create the plotting_extent object so that the extent is correct. Your code should look like the following: \n",
    "```\n",
    "ned_cl_extent = plotting_extent(clipped_data[0], clipped_metadata[\"transform\"])\n",
    "```\n",
    "2. The legibility of data will change with the background data, so be sure to adjust colors/thickness of your data if you need to in order to make it visible. \n",
    "3. Be sure to add a title to your map. \n",
    "\n",
    "</div>\n",
    "\n",
    "******\n",
    "<div class='notice--success alert alert-info' markdown=\"1\">\n",
    "\n",
    "<i class=\"fa fa-star\"></i> **Data Tip:** For help with this challenge, please see [this chapter](https://www.earthdatascience.org/courses/scientists-guide-to-plotting-data-in-python/plot-spatial-data/customize-raster-plots/plotting-extents/) on the EarthLab website covering plotting extents and overlaying datatypes. \n",
    "</div>"
   ]
  },
  {
   "cell_type": "code",
   "execution_count": 9,
   "metadata": {},
   "outputs": [],
   "source": [
    "# Add code to create your plot for challenge 3, here  \n"
   ]
  },
  {
   "cell_type": "markdown",
   "metadata": {},
   "source": [
    "<div class=\"notice--warning\" markdown=\"1\">\n",
    "\n",
    "## <i class=\"fa fa-pencil-square-o\" aria-hidden=\"true\"></i> Challenge 4: OPTIONAL Plot Interactive Vector Data\n",
    "\n",
    "Below is a map that was made with **folium** to create an interactive map of the trails and trailheads in Rocky Mountain National Park. This is another way to give your data a background to give it context, besides using elevation or imagery data. Notice you can zoom in/out and move around the map by clicking and dragging. However, there are some aspects that you can change to make the map better! Here are some improvements you can give to the map: \n",
    "\n",
    "1. You can see where the lines are assigned colors with the `style` dictionary. Change the color to an easier color to see, as the green blends in with the background. \n",
    "2. The play icon is a nice marker for trailheads, but not the only option. Change the `icon=` argument in `folium.Icon()` to be another shape. There's a list of [usable icons here](https://fontawesome.com/icons?d=gallery). Note: Not all of the icons on that site will work, so if you pick one and it doesn't display try a different option!\n",
    "3. When you click on the trailhead points, you will see it displays the `GEOMETRYID` value for the point. It may be more useful to display the `POINAME` column, which has the trail name stored in it. Change the column to the correct name so it displays properly. \n",
    "4. You may notice that the map initially starts really zoomed out. Change the `zoom_start` to make the map start close to the coverage of the data. \n",
    "</div>\n",
    "\n",
    "*********\n",
    "\n",
    "<div class='notice--success alert alert-info' markdown=\"1\">\n",
    "\n",
    "<i class=\"fa fa-star\"></i> **Data Tip:** For help with this challenge, please see [this chapter](https://www.earthdatascience.org/courses/scientists-guide-to-plotting-data-in-python/plot-spatial-data/customize-vector-plots/interactive-leaflet-maps-in-python-folium/) on the EarthLab website covering interactive maps, and [this chapter](https://www.earthdatascience.org/courses/scientists-guide-to-plotting-data-in-python/plot-spatial-data/customize-raster-plots/interactive-maps/) covering a similar topic. \n",
    "</div>"
   ]
  },
  {
   "cell_type": "code",
   "execution_count": 10,
   "metadata": {},
   "outputs": [],
   "source": [
    "# Uncomment the code below to create an interactive map. Then manipulate the \n",
    "# Code as specified in the challenge.\n",
    "\n",
    "# # Style Dictionary\n",
    "# style = {'color': 'green'}\n",
    "\n",
    "# # Adding the lines to the map\n",
    "# trails_south_json = trails_south.to_json()\n",
    "# interactive_map = folium.Map(location=[40.37244, -105.66472], zoom_start=7)\n",
    "# lines = folium.features.GeoJson(\n",
    "#     trails_south_json, style_function=lambda x: style)\n",
    "# interactive_map.add_child(lines)\n",
    "\n",
    "# # Adding the points to the map\n",
    "# for i in range(len(trailheads_south)):\n",
    "#     folium.Marker([trailheads_south.iloc[i].geometry.y, trailheads_south.iloc[i].geometry.x],\n",
    "#                   popup=trailheads_south.iloc[i]['GEOMETRYID'], icon=folium.Icon(icon='play')).add_to(interactive_map)\n",
    "# interactive_map"
   ]
  }
 ],
 "metadata": {
  "celltoolbar": "Tags",
  "kernelspec": {
   "display_name": "Python 3",
   "language": "python",
   "name": "python3"
  },
  "language_info": {
   "codemirror_mode": {
    "name": "ipython",
    "version": 3
   },
   "file_extension": ".py",
   "mimetype": "text/x-python",
   "name": "python",
   "nbconvert_exporter": "python",
   "pygments_lexer": "ipython3",
   "version": "3.7.6"
  },
  "toc": {
   "base_numbering": 1,
   "nav_menu": {},
   "number_sections": true,
   "sideBar": true,
   "skip_h1_title": false,
   "title_cell": "Table of Contents",
   "title_sidebar": "Contents",
   "toc_cell": false,
   "toc_position": {},
   "toc_section_display": true,
   "toc_window_display": true
  }
 },
 "nbformat": 4,
 "nbformat_minor": 4
}
