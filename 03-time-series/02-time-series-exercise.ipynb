{
 "cells": [
  {
   "cell_type": "markdown",
   "metadata": {},
   "source": [
    "<img style=\"float: left;\" src=\"../earth-lab-logo-rgb.png\" width=\"150\" height=\"150\">\n",
    "\n",
    "# Earth Data Science Corps Summer 2020\n",
    "\n",
    "![Colored Bar](../colored-bar.png)"
   ]
  },
  {
   "cell_type": "markdown",
   "metadata": {},
   "source": [
    "<div class='notice--success' markdown=\"1\">\n",
    "\n",
    "## Test Your Skills - Time Series Data In Python Using Pandas \n",
    "\n",
    "Now that you have learned how to open and manipulate time series data in **Python**, it's time to test your skills. Complete the activities below.\n",
    "</div>"
   ]
  },
  {
   "cell_type": "code",
   "execution_count": null,
   "metadata": {},
   "outputs": [],
   "source": [
    "# Import necessary packages\n",
    "import os\n",
    "import matplotlib.pyplot as plt\n",
    "import matplotlib.dates as mdates\n",
    "from matplotlib.dates import DateFormatter\n",
    "import seaborn as sns\n",
    "import pandas as pd\n",
    "import earthpy as et\n",
    "\n",
    "# Handle date time conversions between pandas and matplotlib\n",
    "from pandas.plotting import register_matplotlib_converters\n",
    "register_matplotlib_converters()\n",
    "\n",
    "# Use white grid plot background from seaborn\n",
    "sns.set(font_scale=1.5, style=\"whitegrid\")"
   ]
  },
  {
   "cell_type": "code",
   "execution_count": null,
   "metadata": {},
   "outputs": [],
   "source": [
    "# Download the data\n",
    "data = et.data.get_data('colorado-flood')"
   ]
  },
  {
   "cell_type": "code",
   "execution_count": null,
   "metadata": {},
   "outputs": [],
   "source": [
    "# Set working directory\n",
    "os.chdir(os.path.join(et.io.HOME,\n",
    "                      'earth-analytics',\n",
    "                      'data'))\n",
    "\n",
    "# Define relative path to file with daily discharge data\n",
    "stream_discharge_path = os.path.join(\"colorado-flood\",\n",
    "                                     \"discharge\",\n",
    "                                     \"06730200-discharge-daily-1986-2013.csv\")"
   ]
  },
  {
   "cell_type": "markdown",
   "metadata": {},
   "source": [
    "<div class=\"notice--warning alert alert-info\" markdown=\"1\">\n",
    "\n",
    "## <i class=\"fa fa-pencil-square-o\" aria-hidden=\"true\"></i> Challenge 1: Explore Your Data & Metadata\n",
    "\n",
    "Before you begin working with files using **python**, it can be helpful \n",
    "to look at the structure of the file itself. In some cases, text files \n",
    "have metadata at the top of the file that tell you more about the data within \n",
    "the file itself. This information at the top of the text file can help \n",
    "you make decisions about how you plan to import the data, and what cleanup \n",
    "steps you may need to take.\n",
    "\n",
    "Open the files `earth-analytics/data/colorado-flood/discharge/06730200-discharge-daily-1986-2013.csv` and `earth-analytics/data/colorado-flood/discharge/06730200-discharge-daily-1986-2013.txt` by clicking on them and review their contents. Use these files to answer the questions below:\n",
    "\n",
    "1. What is the delimiter used in `06730200-discharge-daily-1986-2013.csv`?\n",
    "2. What are the units for stream discharge in the data?\n",
    "3. Where was this data collected?\n",
    "4. What is the frequency of the data collection (day, week, month)?\n",
    "5. What does each number represent in the data (a single observation, minimum value, max value or mean value)?\n",
    "\n",
    "Write down your answers in the cell below as a comment.\n",
    "\n",
    "****\n",
    "HINT: You may also want to explore the `README_dischargeMetadata.rtf` file located in the same directory. This file contains metadata that describes in more detail the data that you are using"
   ]
  },
  {
   "cell_type": "markdown",
   "metadata": {},
   "source": [
    "*List your answers to the above questions in this cell*"
   ]
  },
  {
   "cell_type": "markdown",
   "metadata": {},
   "source": [
    "<div class=\"notice--warning alert alert-info\" markdown=\"1\">\n",
    "\n",
    "## <i class=\"fa fa-pencil-square-o\" aria-hidden=\"true\"></i> Challenge 2: Open and Plot a CSV File with Time Series Data\n",
    "\n",
    "The code above creates a path (`stream_discharge_path`) to open daily stream \n",
    "discharge measurements taken by U.S. Geological Survey from 1986 to 2013 at \n",
    "Boulder Creek in Boulder, Colorado. Using **pandas**, do the following with the data:\n",
    "\n",
    "1. Read the data into **Python** as a **pandas** `DataFrame`. \n",
    "2. Parse the dates in the `datetime` column of the **pandas** `DataFrame`.\n",
    "3. Set the `datetime` as the index for your `DataFrame`.\n",
    "4. Plot the newly opened data with **matplotlib**. Make sure your x-axis is the dates, and your y-axis is the `disValue` column from the **pandas** `DataFrame`.\n",
    "5. Give your plot a title and label the axes.\n",
    "\n",
    "If you need a refresher on how to plot time series data, check out [this lesson on working with time series data in Pandas.](https://www.earthdatascience.org/courses/use-data-open-source-python/use-time-series-data-in-python/date-time-types-in-pandas-python/)\n",
    "\n",
    "Once you have created your plot, answer the following questions.\n",
    "\n",
    "1. What is the max value for stream charge in the data? One what date did that value occur?\n",
    "2. Consider the entire dataset. Do you see any patterns of stream discharge values in the data?\n",
    "</div>\n",
    "\n",
    "Your final plot should look like the plot below. "
   ]
  },
  {
   "cell_type": "code",
   "execution_count": null,
   "metadata": {},
   "outputs": [],
   "source": [
    "# Import data using pandas\n"
   ]
  },
  {
   "cell_type": "code",
   "execution_count": null,
   "metadata": {
    "scrolled": false
   },
   "outputs": [],
   "source": [
    "# Build plot from pandas DataFrame\n"
   ]
  },
  {
   "cell_type": "code",
   "execution_count": null,
   "metadata": {},
   "outputs": [],
   "source": [
    "# Put your answers for the text questions here\n"
   ]
  },
  {
   "cell_type": "markdown",
   "metadata": {},
   "source": [
    "<div class=\"notice--warning alert alert-info\" markdown=\"1\">\n",
    "\n",
    "## <i class=\"fa fa-pencil-square-o\" aria-hidden=\"true\"></i> Challenge 3: Subset the Data\n",
    "\n",
    "The 2013 Colorado Flood occurred in 2013 (as the name implies). The plot above shows all of the stream discharge data over several decades. In this challenge you will subset the data to just the year and months during which the flood event occurred. \n",
    "\n",
    "Do the following: \n",
    "1. Subset the data to include only discharge data from August 1st, 2013 through October 31, 2013\n",
    "2. Plot the newly subset data with **matplotlib**. Make sure your x-axis contains dates,  and your y-axis is contains the `disValue` column from your **pandas** `DataFrame`.\n",
    "3. Give your plot a title and label the axes.\n",
    "4. Format the dates on the x-axis so they only show the month and the day. Additionally, you can angle the dates using the line of code `fig.autofmt_xdate()`. \n",
    "5. Make the x-axis week ticks only show up for every other week. \n",
    "\n",
    "The lessons below should help you complete this challenge:\n",
    "\n",
    "* [More on subsetting time series data using **Pandas**](https://www.earthdatascience.org/courses/use-data-open-source-python/use-time-series-data-in-python/date-time-types-in-pandas-python/subset-time-series-data-python/) \n",
    "* [More on customizing date labels on time series plots in **matplotlib**](https://www.earthdatascience.org/courses/use-data-open-source-python/use-time-series-data-in-python/date-time-types-in-pandas-python/customize-dates-matplotlib-plots-python/). \n",
    "</div>"
   ]
  },
  {
   "cell_type": "code",
   "execution_count": null,
   "metadata": {},
   "outputs": [],
   "source": [
    "# Subset the data\n"
   ]
  },
  {
   "cell_type": "code",
   "execution_count": null,
   "metadata": {
    "scrolled": false
   },
   "outputs": [],
   "source": [
    "# Plot the data\n"
   ]
  },
  {
   "cell_type": "markdown",
   "metadata": {},
   "source": [
    "<div class=\"notice--warning alert alert-info\" markdown=\"1\">\n",
    "\n",
    "## <i class=\"fa fa-pencil-square-o\" aria-hidden=\"true\"></i> Challenge 4: Resample the Data\n",
    "\n",
    "Next, summarize the stream discharge data by week. Additionally, you will \n",
    "clean up the format of the date labels on the x-axis. Do the following: \n",
    "\n",
    "1. Resample the `DataFrame` that you made above for August - October, 2013 to represent the maximum stream discharge value for each week. \n",
    "2. Plot the newly resampled data as a scatterplot (`ax.scatter()`)using `matplotlib`. Give your plot a title and label the x and y axes.\n",
    "3. Format the dates on the x-axis so they only show the month and the day. Additionally, you can angle the dates using the line of code `fig.autofmt_xdate()`. \n",
    "4. Adjust the x-axis ticks and labels so you have one label and tick for **every other week**. \n",
    "\n",
    "****\n",
    "HINT: The lessons below might help you complete this challenge:\n",
    "\n",
    "* [Check out the Pandas time series data resampling lesson to help you resample your data.](https://www.earthdatascience.org/courses/use-data-open-source-python/use-time-series-data-in-python/date-time-types-in-pandas-python/resample-time-series-data-pandas-python/)\n",
    "* [Check out the customize time series plots lesson to help with adjusting the x axis ticks.](https://www.earthdatascience.org/courses/use-data-open-source-python/use-time-series-data-in-python/date-time-types-in-pandas-python/customize-dates-matplotlib-plots-python/)\n",
    "</div>"
   ]
  },
  {
   "cell_type": "code",
   "execution_count": null,
   "metadata": {},
   "outputs": [],
   "source": [
    "# Resample by weekly max values\n"
   ]
  },
  {
   "cell_type": "code",
   "execution_count": null,
   "metadata": {},
   "outputs": [],
   "source": [
    "# Plot the resampled data\n"
   ]
  },
  {
   "cell_type": "markdown",
   "metadata": {},
   "source": [
    "<div class=\"notice--warning alert alert-info\" markdown=\"1\">\n",
    "\n",
    "## <i class=\"fa fa-pencil-square-o\" aria-hidden=\"true\"></i> Challenge 5: Compare Two Months Side by Side\n",
    "\n",
    "In this next challenge, you will compare daily max stream discharge for two time periods. Create a plot comparing stream discharge in  levels to the levels seen 10 years ago during the same months. Do the following: \n",
    "\n",
    "1. Create a data subset for the time periods:\n",
    "    * August 1st, 2003 - October 31st, 2003 \n",
    "    * August 1st, 2013 - October 31st, 2013 \n",
    "2. Plot the data from 2003 on a plot above of the data from 2013 using `matplotlib`. \n",
    "3. Add titles to each plot and and label the x and y axes.\n",
    "4. Use `fig.suptitle(\"title-here\")` to add a title to your figure.\n",
    "5. Modify the y limits of both plots to range from 0 to the max value found in the 2013 data subset. \n",
    "    * Hint: you can use `round(data-frame-name[\"disValue\"].max(), -3)` to get the max value from your 2013 data. \n",
    "    * use `ax.set_ylim(min-value, max-value)` to set the limits\n",
    "6. Format the dates on the x-axis as follows:\n",
    "    * Make sure date ticks only show the month and the day - example: `Aug-06`.\n",
    "    * Make the x-axis week ticks only display for every other week. \n",
    "7. Use `plt.tight_layout()` to ensure your plots don't overlap each other. \n",
    "\n",
    "OPTIONAL: You may have noticed empty space on either side of the x-axis in your previous plot. Use `ax.set_xlim()` to set the x limits of your plot to the minimum and maximum date values in each of your subset datasets. \n",
    "</div>"
   ]
  },
  {
   "cell_type": "code",
   "execution_count": null,
   "metadata": {},
   "outputs": [],
   "source": [
    "# Subset the 2003 data\n"
   ]
  },
  {
   "cell_type": "code",
   "execution_count": null,
   "metadata": {},
   "outputs": [],
   "source": [
    "# Plot the 2003 and 2013 data side by side\n"
   ]
  },
  {
   "cell_type": "markdown",
   "metadata": {},
   "source": [
    "<div class=\"notice--warning alert alert-info\" markdown=\"1\">\n",
    "\n",
    "## <i class=\"fa fa-pencil-square-o\" aria-hidden=\"true\"></i> Bonus Challenge: Get Data from Hydrofunctions\n",
    "\n",
    "There are many ways to get data into **python**. So far you have used \n",
    "`et.data.get_data()` to download your data. However you can also access \n",
    "data directly using open source tools that access API's (automated tools \n",
    "that directly access and downoad data from the data servers). \n",
    "\n",
    "**hydrofunctions** is an open source Python package that allows you to \n",
    "download hydrologic data from the U.S. Geological Survey. For the bonus \n",
    "challenge, you'll use **hydrofunctions** to download stream discharge data \n",
    "and plot it much like you did above. To get the data using **hydrofunctions**, \n",
    "run the code below.\n",
    "\n",
    "```\n",
    "import hydrofunctions as hf\n",
    "\n",
    "# Define the site number and start and end dates that you are interested in\n",
    "site = \"06730500\"\n",
    "start = '1946-05-10'\n",
    "end = '2018-08-29'\n",
    "\n",
    "# Request data for that site and time period\n",
    "longmont_resp = hf.get_nwis(site, 'dv', start, end)\n",
    "\n",
    "# Convert the response to a json in order to use the extract_nwis_df function\n",
    "longmont_resp = longmont_resp.json()\n",
    "\n",
    "longmont_discharge = hf.extract_nwis_df(longmont_resp)\n",
    "\n",
    "```\n",
    "\n",
    "Once you have imported the  data into a **pandas** `DataFrame` using the code \n",
    "above, perform the following tasks: \n",
    "\n",
    "1. Rename the columns (USGS:06730500:00060:00003, USGS:06730500:00060:00003_qualifiers)) `discharge` and `flags`. This will make the data a bit easier to work with. \n",
    "2. Subset the data to the time period: `1970` through the present.\n",
    "3. Resample the data to calculate the annual maximum stream discharge value for each year. \n",
    "4. Plot the data using `matplotlib`. Format the x and y axis so the labels are easy to read. Add a title to your plot.\n",
    "\n",
    "****\n",
    "HINT: if you don't know how to rename a dataframe column, try looking it up \n",
    "using a Google search!\n",
    "</div>\n"
   ]
  },
  {
   "cell_type": "code",
   "execution_count": null,
   "metadata": {},
   "outputs": [],
   "source": [
    "# Copy and paste the code from above, than modify the pandas DataFrame as instructed\n"
   ]
  },
  {
   "cell_type": "code",
   "execution_count": null,
   "metadata": {},
   "outputs": [],
   "source": [
    "# Plot the data\n"
   ]
  },
  {
   "cell_type": "markdown",
   "metadata": {},
   "source": [
    "<div class=\"notice--warning alert alert-info\" markdown=\"1\">\n",
    "\n",
    "## <i class=\"fa fa-pencil-square-o\" aria-hidden=\"true\"></i> Bonus Challenge 2: Plot Precipitation and Stream Discharge In One Figure \n",
    "\n",
    "For this challenge, you will open up the precipitation dataset also \n",
    "found in the `colorado-flood` download, and plot it side by side with \n",
    "discharge to see how they interact. For this challenge, you need to:\n",
    "\n",
    "### Precipitation Data Processing\n",
    "\n",
    "1. Open the precipitation data that you used previously (`colorado-flood/precipitation/805325-precip-daily-2003-2013.csv`) using **Pandas**.\n",
    "  * Make sure the date column (\"DATE\") is set as the index.\n",
    "  * Set the `na_values` to `999.99`. \n",
    "2. Subset the precipitation data to the time period 2013. \n",
    "3. Resample the precipitation data to provide a weekly `sum()` of all values instead of hourly. \n",
    "\n",
    "### Stream Discharge Data Processing\n",
    "\n",
    "1. Subset the stream discharge data to the time period 2013.\n",
    "2. Resample the discharge data provide a the weekly maximum values instead of daily. \n",
    "\n",
    "*******\n",
    "### Plot Your Data In One Figure\n",
    "\n",
    "* Plot the precipitation data and the discharge data as **scatter plots** stacked one on top of each other so you can compare the two visually. \n",
    "*  Format your plots  with titles, x and y axis labels. Make sure the dates are easy to read.\n",
    "</div>\n"
   ]
  },
  {
   "cell_type": "code",
   "execution_count": null,
   "metadata": {},
   "outputs": [],
   "source": [
    "# Define relative path to file with daily precipitation data\n",
    "precipitation_path = os.path.join(\"colorado-flood\",\n",
    "                                  \"precipitation\",\n",
    "                                  \"805325-precip-daily-2003-2013.csv\")\n",
    "\n",
    "# Open the data with pandas and modify it as instructed"
   ]
  },
  {
   "cell_type": "code",
   "execution_count": null,
   "metadata": {},
   "outputs": [],
   "source": [
    "# Plot the data\n"
   ]
  },
  {
   "cell_type": "markdown",
   "metadata": {},
   "source": [
    "<div class=\"notice--warning alert alert-info\" markdown=\"1\">\n",
    "\n",
    "## <i class=\"fa fa-pencil-square-o\" aria-hidden=\"true\"></i> Bonus Challenge 2b: Explore the Data \n",
    "\n",
    "Look at the two plots above. Do you notice any patterns between the max precipitation\n",
    "values and the max stream discharge values?\n",
    "\n",
    "</div>\n"
   ]
  },
  {
   "cell_type": "markdown",
   "metadata": {},
   "source": [
    "*List your answers to the above questions in this cell*"
   ]
  }
 ],
 "metadata": {
  "anaconda-cloud": {},
  "celltoolbar": "Tags",
  "kernelspec": {
   "display_name": "Python 3",
   "language": "python",
   "name": "python3"
  },
  "language_info": {
   "codemirror_mode": {
    "name": "ipython",
    "version": 3
   },
   "file_extension": ".py",
   "mimetype": "text/x-python",
   "name": "python",
   "nbconvert_exporter": "python",
   "pygments_lexer": "ipython3",
   "version": "3.7.6"
  },
  "toc": {
   "base_numbering": 1,
   "nav_menu": {},
   "number_sections": true,
   "sideBar": true,
   "skip_h1_title": false,
   "title_cell": "Table of Contents",
   "title_sidebar": "Contents",
   "toc_cell": false,
   "toc_position": {},
   "toc_section_display": true,
   "toc_window_display": true
  },
  "varInspector": {
   "cols": {
    "lenName": 16,
    "lenType": 16,
    "lenVar": 40
   },
   "kernels_config": {
    "python": {
     "delete_cmd_postfix": "",
     "delete_cmd_prefix": "del ",
     "library": "var_list.py",
     "varRefreshCmd": "print(var_dic_list())"
    },
    "r": {
     "delete_cmd_postfix": ") ",
     "delete_cmd_prefix": "rm(",
     "library": "var_list.r",
     "varRefreshCmd": "cat(var_dic_list()) "
    }
   },
   "types_to_exclude": [
    "module",
    "function",
    "builtin_function_or_method",
    "instance",
    "_Feature"
   ],
   "window_display": false
  }
 },
 "nbformat": 4,
 "nbformat_minor": 2
}
