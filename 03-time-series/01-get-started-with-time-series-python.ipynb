{
 "cells": [
  {
   "cell_type": "markdown",
   "metadata": {},
   "source": [
    "<img style=\"float: left;\" src=\"../earth-lab-logo-rgb.png\" width=\"150\" height=\"150\">\n",
    "\n",
    "# Earth Data Science Corps Summer 2020\n",
    "\n",
    "![Colored Bar](../colored-bar.png)"
   ]
  },
  {
   "cell_type": "markdown",
   "metadata": {},
   "source": [
    "<div class='notice--success' markdown=\"1\">\n",
    "\n",
    "## <i class=\"fa fa-ship\" aria-hidden=\"true\"></i> Introduction to Time Series Data in Python \n",
    "\n",
    "In this lesson, you will learn how to work with the `datetime` object in \n",
    "**Python** which you need for plotting and working with time series data. \n",
    "You will also learn how to work with \"no data\" values in **Python**.\n",
    "\n",
    "\n",
    "## <i class=\"fa fa-graduation-cap\" aria-hidden=\"true\"></i> Learning Objectives\n",
    "\n",
    "After completing this lesson, you will be able to:\n",
    "\n",
    "* Import a time series dataset using **pandas** with dates converted to a `datetime` object in **Python**.\n",
    "* Use the `datetime` object to create easier-to-read time series plots and work with data across various timeframes (e.g. daily, monthly, yearly) in **Python**.\n",
    "* Explain the role of \"no data\" values and how the `NaN` value is used in **Python** to label \"no data\" values.\n",
    "* Set a \"no data\" value for a file when you import it into a **pandas** dataframe. \n",
    "\n",
    "</div>\n",
    "\n",
    "\n",
    "## Why Use Datetime Objects in Python\n",
    "\n",
    "Dates can be tricky in any programming language. While you may \n",
    "see a date in a dataset and recognize it as something that can \n",
    "be quantified and related to time, a computer reads in numbers \n",
    "and characters. Often by default, date information is loaded \n",
    "as a string (i.e. a set of characters), rather than something \n",
    "that has an order in time. \n",
    "\n",
    "The **Python** `datetime` object will make working with and plotting \n",
    "time series data easier. You can convert **pandas** dataframe \n",
    "columns containing dates and times as strings into `datetime` objects.\n",
    "\n",
    "Below, you will find a quick introduction to working with and \n",
    "plotting time series data using Pandas. The following pages in \n",
    "this lesson will dive further into the details associated with \n",
    "using, manipulating and analyzing time series data.\n",
    "\n",
    "\n",
    "### Import Packages and Get Data\n",
    "\n",
    "To begin, import the packages that you need to work with tabular data in Python.  "
   ]
  },
  {
   "cell_type": "code",
   "execution_count": null,
   "metadata": {},
   "outputs": [],
   "source": [
    "# Import necessary packages\n",
    "from matplotlib.axes._axes import _log as matplotlib_axes_logger\n",
    "import os\n",
    "import matplotlib.pyplot as plt\n",
    "import seaborn as sns\n",
    "import pandas as pd\n",
    "import earthpy as et\n",
    "\n",
    "# Handle date time conversions between pandas and matplotlib\n",
    "from pandas.plotting import register_matplotlib_converters\n",
    "register_matplotlib_converters()\n",
    "\n",
    "# Dealing with error thrown by one of the plots\n",
    "matplotlib_axes_logger.setLevel('ERROR')\n",
    "\n",
    "\n",
    "# Adjust font size and style of all plots in notebook with seaborn\n",
    "sns.set(font_scale=1.5, style=\"whitegrid\")"
   ]
  },
  {
   "cell_type": "markdown",
   "metadata": {},
   "source": [
    "Next, you set your working directory to:\n",
    "\n",
    "`~/earth-analytics/data` \n",
    "\n",
    "And finally you open up the file: `805325-precip-dailysum-2003-2013.csv`\n",
    "which is a `.csv` file that contains precipitation data for \n",
    "Boulder, Colorado for 2003 to 2013 when the flood occurred \n",
    "in Colorado.\n",
    "\n",
    "<div class=\"notice--success alert alert-info\">\n",
    "    \n",
    "<i class=\"fa fa-star\"></i> **Data Tip:**\n",
    "You can read more about the data used in this lesson in the \n",
    "<a href=\"https://www.earthdatascience.org/courses/use-data-open-source-python/data-stories/colorado-floods-2013/how-rain-impacts-floods/\">data story \n",
    "the discusses the Colorado flood.</a>   \n",
    "</div>\n"
   ]
  },
  {
   "cell_type": "code",
   "execution_count": null,
   "metadata": {},
   "outputs": [],
   "source": [
    "# Download the data\n",
    "data = et.data.get_data('colorado-flood')\n",
    "\n",
    "# Set working directory\n",
    "os.chdir(os.path.join(et.io.HOME, 'earth-analytics', \"data\"))"
   ]
  },
  {
   "cell_type": "markdown",
   "metadata": {},
   "source": [
    "Next, open the precipitation data for Boulder, Colorado. Look at the structure\n",
    "of the data."
   ]
  },
  {
   "cell_type": "code",
   "execution_count": null,
   "metadata": {},
   "outputs": [],
   "source": [
    "# Define relative path to the data\n",
    "file_path = os.path.join(\"colorado-flood\",\n",
    "                         \"precipitation\",\n",
    "                         \"805325-precip-daily-2003-2013.csv\")\n",
    "\n",
    "# Import file as pandas dataframe\n",
    "boulder_precip_2003_2013 = pd.read_csv(file_path)\n",
    "boulder_precip_2003_2013.head()"
   ]
  },
  {
   "cell_type": "markdown",
   "metadata": {},
   "source": [
    "Plot the data using the `DAILY_PRECIP` column. What do you notice about \n",
    "the plot?"
   ]
  },
  {
   "cell_type": "code",
   "execution_count": null,
   "metadata": {},
   "outputs": [],
   "source": [
    "boulder_precip_2003_2013.plot(x=\"DATE\",\n",
    "                              y=\"HPCP\",\n",
    "                              title=\"Daily Precipitation \")\n",
    "plt.show()"
   ]
  },
  {
   "cell_type": "markdown",
   "metadata": {},
   "source": [
    "<div class=\"notice--warning alert alert-info\" markdown=\"1\">\n",
    "\n",
    "## <i class=\"fa fa-pencil-square-o\" aria-hidden=\"true\"></i> Challenge 1: Review Metadata\n",
    "\n",
    "In the cell below list the things that you think look \"wrong\" with the plot \n",
    "above. \n",
    "\n",
    "**Next, read the `PRECIP_HLY_documentation.pdf` metadata document that was included\n",
    "with the data before answering items 1-4.**\n",
    "\n",
    "1. Do the data have a no data value?\n",
    "2. How are missing data \"identified\" in the table\"?\n",
    "3. How frequently are the data recorded (every second, minute, hour, day, week, etc?)?\n",
    "4. What are the units of the data (NOTE - this may be a \"trick\" question :) ). But see what you can find in the metadata. \n",
    "\n",
    "HINT: the next few cells may help you explore the data to better understand \n",
    "what is going on with it. \n",
    "</div>"
   ]
  },
  {
   "cell_type": "markdown",
   "metadata": {},
   "source": [
    "*List your answers to the above questions in this cell*"
   ]
  },
  {
   "cell_type": "markdown",
   "metadata": {},
   "source": [
    "### Time Series Data Cleaning & Exploration\n",
    "\n",
    "The data above do not look quite right. Take some time to explore the data to \n",
    "better understand what you need to clean up."
   ]
  },
  {
   "cell_type": "code",
   "execution_count": null,
   "metadata": {},
   "outputs": [],
   "source": [
    "# Look at the range of values in the data - specifically the HPCP column\n",
    "boulder_precip_2003_2013[\"HPCP\"].describe()"
   ]
  },
  {
   "cell_type": "code",
   "execution_count": null,
   "metadata": {},
   "outputs": [],
   "source": [
    "boulder_precip_2003_2013.dtypes"
   ]
  },
  {
   "cell_type": "markdown",
   "metadata": {},
   "source": [
    "You may have observed several anomalies in the data.\n",
    "\n",
    "1. The data seem to have a very large number: 999.99. More often than note, a value of 999 represents a no data value that needs to be removed from your data. \n",
    "2. You may have noticed that your x axis date values in the plot look \"messy\". When you see an x-axis like this but you know your data are time series, it's most often caused by your datetime data not being read in properly as numeric date times. \n",
    "\n",
    "You can address all of these issues using the following `read_csv()` parameters:\n",
    "\n",
    "* `parse_dates=`: Column containing date information that should be read into the `DataFrame` as a datetime object.\n",
    "* `na_values=`: Values in the file that should be replaced with `NaN` (Not a Number).\n",
    "* `index_col=1`: optional -- but this will make subsetting the data much easier\n"
   ]
  },
  {
   "cell_type": "code",
   "execution_count": null,
   "metadata": {},
   "outputs": [],
   "source": [
    "# Import data using datetime and no data value\n",
    "boulder_precip_2003_2013 = pd.read_csv(file_path,\n",
    "                                       # Make sure the dates import in datetime format\n",
    "                                       parse_dates=['DATE'],\n",
    "                                       # Set DATE as the index so you can subset data by time period\n",
    "                                       index_col=['DATE'],\n",
    "                                       # Mask no data values so they are not plotted / used in analysis\n",
    "                                       na_values=['999.99'])\n",
    "\n",
    "# View the data\n",
    "boulder_precip_2003_2013.head()"
   ]
  },
  {
   "cell_type": "markdown",
   "metadata": {},
   "source": [
    "Notice above that the DATE column header is visually lower than the other \n",
    "columns and the entire column is bold. This represents the DATE column as an \n",
    "index. You set the DATE column as an index above using the parameter:\n",
    "\n",
    "`index_col=['DATE']`\n",
    "\n",
    "Once your date values are an index, you can more easily subset the data \n",
    "by time period. You will learn how to do this below. "
   ]
  },
  {
   "cell_type": "code",
   "execution_count": null,
   "metadata": {},
   "outputs": [],
   "source": [
    "# View summary statistics == Notice the DATE column is not included\n",
    "boulder_precip_2003_2013.describe()"
   ]
  },
  {
   "cell_type": "markdown",
   "metadata": {},
   "source": [
    "Notice that once you remove no data values, the min and max\n",
    "values for the HPCP column are more reasonable for hourly \n",
    "precipitation ranging from 0 to 2.2.\n"
   ]
  },
  {
   "cell_type": "markdown",
   "metadata": {},
   "source": [
    "### Using An Index In Pandas\n",
    "\n",
    "Above, you used `index_col=['DATE']` to get the date column to be an index for \n",
    "the Pandas DataFrame. Assigning an index column is helpful when using timeseries \n",
    "data as it allows you to easily subset your data by time (see below for an\n",
    "overview of subsetting data). \n",
    "\n",
    "It is also important to know that once a column is an index, you need to call \n",
    "it differently. For instance, below you run `.dtypes` on your data. Notice that \n",
    "`DATE` is no longer a column described in your dataframe. "
   ]
  },
  {
   "cell_type": "code",
   "execution_count": null,
   "metadata": {},
   "outputs": [],
   "source": [
    "# Where is the date column\n",
    "boulder_precip_2003_2013.dtypes"
   ]
  },
  {
   "cell_type": "markdown",
   "metadata": {},
   "source": [
    "\n",
    "You can still access the DATE column as an index column using `.index`:\n",
    "\n",
    "`data-frame-name.index`\n",
    "\n",
    "Try it out. Notice that below the output of `.index` is a `datetime64` \n",
    "object. "
   ]
  },
  {
   "cell_type": "code",
   "execution_count": null,
   "metadata": {},
   "outputs": [],
   "source": [
    "# View the index for your data frame\n",
    "boulder_precip_2003_2013.index"
   ]
  },
  {
   "cell_type": "markdown",
   "metadata": {},
   "source": [
    "You can also reset the index if you want it to turn it back into a normal\n",
    "column using `data-frame.reset_index()`"
   ]
  },
  {
   "cell_type": "code",
   "execution_count": null,
   "metadata": {},
   "outputs": [],
   "source": [
    "boulder_precip_2003_2013.reset_index()"
   ]
  },
  {
   "cell_type": "markdown",
   "metadata": {},
   "source": [
    "Now that you have cleaned up the data, you can plot it. Below, you use \n",
    "`.plot()` to plot. If you have an index column, then `.plot()` will automatically\n",
    "select that column to plot on the x-axis. You then only need to specify the \n",
    "y-axis column."
   ]
  },
  {
   "cell_type": "code",
   "execution_count": null,
   "metadata": {},
   "outputs": [],
   "source": [
    "boulder_precip_2003_2013.plot(y=\"HPCP\",\n",
    "                              title=\"Hourly Precipitation\")\n",
    "plt.show()"
   ]
  },
  {
   "cell_type": "markdown",
   "metadata": {},
   "source": [
    "## Subset Time Series Data by Time\n",
    "\n",
    "Once you have cleaned up your data, and assigned a datetime index, \n",
    "you can quickly begin to plot and summarize \n",
    "data by time periods. Below you subset the data for 2005."
   ]
  },
  {
   "cell_type": "code",
   "execution_count": null,
   "metadata": {},
   "outputs": [],
   "source": [
    "# Subset data from 2005\n",
    "precip_2005 = boulder_precip_2003_2013['2005']\n",
    "precip_2005.head()"
   ]
  },
  {
   "cell_type": "code",
   "execution_count": null,
   "metadata": {},
   "outputs": [],
   "source": [
    "# Remove missing data values\n",
    "precip_2005_clean = precip_2005.dropna()"
   ]
  },
  {
   "cell_type": "code",
   "execution_count": null,
   "metadata": {},
   "outputs": [],
   "source": [
    "# Plot the data using pandas\n",
    "\n",
    "precip_2005_clean.reset_index().plot(x=\"DATE\",\n",
    "                                     y=\"HPCP\",\n",
    "                                     title=\"Hourly Precipitation\",\n",
    "                                     kind=\"scatter\")\n",
    "plt.show()"
   ]
  },
  {
   "cell_type": "markdown",
   "metadata": {},
   "source": [
    "While you can plot data with pandas, it's often easier to simply use matplotlib\n",
    "directly as this gives you more control of your plots. Below you create a scatter \n",
    "plot of the data using `ax.scatter`."
   ]
  },
  {
   "cell_type": "code",
   "execution_count": null,
   "metadata": {},
   "outputs": [],
   "source": [
    "# Plot the data using native matplotlib\n",
    "f, ax = plt.subplots()\n",
    "ax.scatter(x=precip_2005_clean.index.values,\n",
    "           y=precip_2005_clean[\"HPCP\"])\n",
    "plt.show()"
   ]
  },
  {
   "cell_type": "markdown",
   "metadata": {},
   "source": [
    "## Resample Time Series Data\n",
    "\n",
    "Resampling time series data refers to the act of summarizing data \n",
    "over different time periods. For example, above you have been working \n",
    "with hourly data. However, you may want to plot data summarized by day.\n",
    "\n",
    "You can resample time series data in Pandas using the `resample()`\n",
    "method. Within that method you call the time frequency for which \n",
    "you want to resample. Examples including day (`\"D\"`) or week `(\"w\")`.\n",
    "\n",
    "When you resample data, you need to also tell Python how you wish \n",
    "to summarize the data for that time period. For example do you want \n",
    "to summarize or add all all values for each day?\n",
    "\n",
    "`precip_2005_clean.resample(\"D\").sum()`\n",
    "\n",
    "or do you want a max value:\n",
    "\n",
    "`precip_2005_clean.resample(\"D\").max()`\n",
    "\n",
    "Below you resample the 2005 data subset that you created above, and \n",
    "then you plot it. [Resampling is discussed in more detail later in this \n",
    "chapter of the Earth Lab textbook.](https://www.earthdatascience.org/courses/use-data-open-source-python/use-time-series-data-in-python/date-time-types-in-pandas-python/resample-time-series-data-pandas-python/)"
   ]
  },
  {
   "cell_type": "code",
   "execution_count": null,
   "metadata": {},
   "outputs": [],
   "source": [
    "precip_2005_daily = precip_2005_clean.resample(\"D\").sum()\n",
    "# Plot the data using native matplotlib\n",
    "f, ax = plt.subplots()\n",
    "ax.scatter(x=precip_2005_daily.index.values,\n",
    "           y=precip_2005_daily[\"HPCP\"])\n",
    "plt.show()"
   ]
  },
  {
   "cell_type": "markdown",
   "metadata": {},
   "source": [
    "<div class=\"notice--warning alert alert-info\" markdown=\"1\">\n",
    "\n",
    "## <i class=\"fa fa-pencil-square-o\" aria-hidden=\"true\"></i> Challenge 2: Plot Multiple Axes\n",
    "\n",
    "If you recall from previous lessons, you can create a figure with\n",
    "multiple subplots using: \n",
    "\n",
    "`f, (ax1, ax2) = plot.subplots(2,1)`\n",
    "\n",
    "In the cell below, do the following\n",
    "\n",
    "1. Create a variable that contains precipitation data from 2012 and a second variable that contains data from 2013.\n",
    "2. Plot each variable on a subplot within a matplotlib figure. The 2012 data\n",
    "should be on the top of your figure and the 2013 data should be on the bottom.\n",
    "\n",
    "Then answer the following questions:\n",
    "\n",
    "1. In which year 2012 or 2013 do you see the highest hourly precipitation value(s)?\n",
    "2. What is the max hourly precipitation value for each year? HINT: `data-frame.max()`\n",
    "should help you answer this question. \n",
    "\n",
    "Customize your plots with x and y axis labels and titles. \n",
    "</div>\n"
   ]
  },
  {
   "cell_type": "code",
   "execution_count": null,
   "metadata": {
    "scrolled": true
   },
   "outputs": [],
   "source": [
    "# Place your code for your figure for the challenge above, here\n"
   ]
  },
  {
   "cell_type": "code",
   "execution_count": null,
   "metadata": {},
   "outputs": [],
   "source": [
    "# Place your answers to the questions for the above challenge here\n"
   ]
  },
  {
   "cell_type": "markdown",
   "metadata": {},
   "source": [
    "<div class=\"notice--warning alert alert-info\" markdown=\"1\">\n",
    "\n",
    "## <i class=\"fa fa-pencil-square-o\" aria-hidden=\"true\"></i> Challenge 3: Modify x and y Limits\n",
    "\n",
    "Have a look at the min and max values in your plots above. Do you notice \n",
    "anything about the y-axis that may make the data look similar when in \n",
    "reality one year has much higher values compared to the other?\n",
    "\n",
    "Recreate the same plot that you made above. However, this time set the \n",
    "y limits of each plot to span from 0 to 2.\n",
    "\n",
    "`ax1.set(ylim=[0, 2])`\n",
    "\n",
    "Customize your plot by changing the colors.\n",
    "\n",
    "Add your plot code to the cell below. \n",
    "</div>"
   ]
  },
  {
   "cell_type": "code",
   "execution_count": null,
   "metadata": {},
   "outputs": [],
   "source": [
    "# Place your code for your figure for the challenge above, here\n"
   ]
  },
  {
   "cell_type": "markdown",
   "metadata": {},
   "source": [
    "<div class=\"notice--warning alert alert-info\" markdown=\"1\">\n",
    "\n",
    "## <i class=\"fa fa-pencil-square-o\" aria-hidden=\"true\"></i> Challenge 4: Data Subsets\n",
    "\n",
    "Above you subset the data by year and plotted two years in the same figure.\n",
    "You can also create temporal subsets using dates to create subsets that \n",
    "span across specific dates of the year - like this:\n",
    "\n",
    "`data_frame_name['2005-05-01':'2005-06-31']`\n",
    "\n",
    "In the cell below create a **scatter plot** of your precipitation data. \n",
    "Subset the data to the date range September 1, 2013 (2013-09-01) to\n",
    "November 1, 2013 (2013-11-01).\n",
    "\n",
    "</div>"
   ]
  },
  {
   "cell_type": "code",
   "execution_count": null,
   "metadata": {},
   "outputs": [],
   "source": [
    "# Place your code to plot your data here\n"
   ]
  },
  {
   "cell_type": "markdown",
   "metadata": {},
   "source": [
    "<div class=\"notice--warning alert alert-info\" markdown=\"1\">\n",
    "\n",
    "## <i class=\"fa fa-pencil-square-o\" aria-hidden=\"true\"></i> Bonus Challenge: Formatting Dates on the X-Axis\n",
    "\n",
    "You may have noticed the dates look a little messy on the x-axis. Remake the plot from above, but use <a href=\"https://www.earthdatascience.org/courses/use-data-open-source-python/use-time-series-data-in-python/date-time-types-in-pandas-python/customize-dates-matplotlib-plots-python/\">this lesson</a> on customizing the format of time ticks on the x-axis of a plot to adjust the x-axis to be more legible.\n",
    "\n",
    "</div>"
   ]
  },
  {
   "cell_type": "code",
   "execution_count": null,
   "metadata": {},
   "outputs": [],
   "source": [
    "from matplotlib.dates import DateFormatter\n",
    "\n",
    "# Place your code to plot your data here\n"
   ]
  }
 ],
 "metadata": {
  "anaconda-cloud": {},
  "celltoolbar": "Tags",
  "kernelspec": {
   "display_name": "Python 3",
   "language": "python",
   "name": "python3"
  },
  "language_info": {
   "codemirror_mode": {
    "name": "ipython",
    "version": 3
   },
   "file_extension": ".py",
   "mimetype": "text/x-python",
   "name": "python",
   "nbconvert_exporter": "python",
   "pygments_lexer": "ipython3",
   "version": "3.7.6"
  },
  "toc": {
   "base_numbering": 1,
   "nav_menu": {},
   "number_sections": true,
   "sideBar": true,
   "skip_h1_title": false,
   "title_cell": "Table of Contents",
   "title_sidebar": "Contents",
   "toc_cell": false,
   "toc_position": {},
   "toc_section_display": true,
   "toc_window_display": true
  },
  "varInspector": {
   "cols": {
    "lenName": 16,
    "lenType": 16,
    "lenVar": 40
   },
   "kernels_config": {
    "python": {
     "delete_cmd_postfix": "",
     "delete_cmd_prefix": "del ",
     "library": "var_list.py",
     "varRefreshCmd": "print(var_dic_list())"
    },
    "r": {
     "delete_cmd_postfix": ") ",
     "delete_cmd_prefix": "rm(",
     "library": "var_list.r",
     "varRefreshCmd": "cat(var_dic_list()) "
    }
   },
   "types_to_exclude": [
    "module",
    "function",
    "builtin_function_or_method",
    "instance",
    "_Feature"
   ],
   "window_display": false
  }
 },
 "nbformat": 4,
 "nbformat_minor": 2
}
