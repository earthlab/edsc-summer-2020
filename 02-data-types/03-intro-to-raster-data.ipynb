{
 "cells": [
  {
   "cell_type": "markdown",
   "metadata": {},
   "source": [
    "<img style=\"float: left;\" src=\"../earth-lab-logo-rgb.png\" width=\"150\" height=\"150\">\n",
    "\n",
    "# Earth Data Science Corps Summer 2020\n",
    "\n",
    "![Colored Bar](../colored-bar.png)"
   ]
  },
  {
   "cell_type": "markdown",
   "metadata": {},
   "source": [
    "<div class='notice--success alert alert-info' markdown=\"1\">\n",
    "\n",
    "## <i class=\"fa fa-ship\" aria-hidden=\"true\"></i> Fundamentals of Raster Data in Python \n",
    "\n",
    "In this lesson, you will learn fundamental concepts related to working with raster data in **Python**, including understanding the spatial attributes of raster data, how to open raster data, and how to visually plot the data. \n",
    "\n",
    "\n",
    "## <i class=\"fa fa-graduation-cap\" aria-hidden=\"true\"></i> Learning Objectives\n",
    "\n",
    "After completing this lesson, you will be able to:\n",
    "\n",
    "* Open raster data using **Rasterio** in **Python**.\n",
    "* Be able to plot spatial raster data using **EarthPy** in **Python**.\n",
    "\n",
    "## <i class=\"fa fa-pencil-square-o\" aria-hidden=\"true\"></i> Suggested Readings \n",
    "\n",
    "\n",
    "Before starting this lesson, read the **What is a Raster** section of [this page](https://www.earthdatascience.org/courses/use-data-open-source-python/intro-raster-data-python/fundamentals-raster-data/) of the Earth Lab website to familiarize yourself with the concept of raster data. \n",
    "\n",
    "</div>\n",
    "\n",
    "\n",
    "## What is Raster data?\n",
    "\n",
    "Raster or “gridded” data are stored as a grid of values which are rendered on a map as pixels. Each pixel value represents an area on the Earth’s surface making the data spatial. A raster file is composed of regular grid of cells, all of which are the same size. You've looked at and used rasters before if you've looked at photographs or imagery in a tool like Google Earth. However, the raster files that you will work with are different from photographs in that they are spatially referenced. Each pixel represents an area of land on the ground. That area is defined by the spatial **resolution** of the raster.\n",
    "\n",
    "<figure>\n",
    "   <a href=\"https://www.earthdatascience.org/images/earth-analytics/raster-data/raster-concept.png\" target=\"_blank\">\n",
    "   <img src=\"https://www.earthdatascience.org/images/earth-analytics/raster-data/raster-concept.png\" alt=\"Raster data concept diagram.\"></a>\n",
    "   <figcaption>A raster is composed of a regular grid of cells. Each cell is the same\n",
    "   size in the x and y direction. Source: Colin Williams, NEON.\n",
    "   </figcaption>\n",
    "</figure>\n",
    "\n",
    "\n",
    "<div class='notice--success alert alert-info' markdown=\"1\">\n",
    "\n",
    "<i class=\"fa fa-star\"></i> **Data Tip:** For more information on rasters, how they work, and the types of data stored in rasters, see [this chapter](https://www.earthdatascience.org/courses/use-data-open-source-python/intro-raster-data-python/fundamentals-raster-data/) on using raster data from the earth data science intermediate textbook.</div>\n",
    "\n",
    "## Raster Data Can Have One or More Layers \n",
    "\n",
    "Raster data can have one or more layers. An elevation model \n",
    "for example will often just have one layer representing the \n",
    "elevation of the earth's surface for a particular location. However, \n",
    "other data including images and time series data, may result in \n",
    "a raster file that is composed of multiple layers. Different \n",
    "file types can be used to accomodate different sizes and structures\n",
    "of raster data. \n",
    "\n",
    "\n",
    "## There Are Many Different File Raster File Formats\n",
    "There are many different file types that are used to store \n",
    "raster data. \n",
    "\n",
    "### Raster Data Stored As Single Files \n",
    "\n",
    "Some datasets such as landsat and NAIP are stored in single files. For landsat, often you will find each band stored as a separate .tif file. NAIP stores all bands in on .tif file. Common file types for raster data stored as a single file include:\n",
    "\n",
    "- **.tif / .tiff**: Stands for Tagged Image File Format. One of the most common ways to store raster data. How some image satellites, such as Landsat, share their data. \n",
    "- **.asc**: Stands for ASCII Raster Files. This is a text based format that stores raster data. This format is used given it's simple to store and distribute. \n",
    "\n",
    "#### Hierarchical Data Formats\n",
    "\n",
    "Hierarchical data formats can store many different types of data in one single file. These formats are optimal for larger data sets where you may want to subset or only work with parts of the data at one time. Hierarchical\n",
    "data can be a bit more involved to work with but they tend to make processing more efficient. Common file types for this data storage method include: \n",
    "\n",
    "- **.hdf / .hdf5**: Stands for Hierarchical Data Format. One of the most common hierarchical was to store raster data. How some image satellites, such as MODIS, share their data. \n",
    "- **.nc (NetCDF)**: Stands for Network Common Data Form. A common way to store climate data. \n",
    "\n",
    "<div class='notice--success alert alert-info' markdown=\"1\">\n",
    "\n",
    "<i class=\"fa fa-star\"></i> **Data Tip:** Learn more about working with GeoTiff files in <a href=\"https://www.earthdatascience.org/courses/use-data-open-source-python/intro-raster-data-python/fundamentals-raster-data/intro-to-the-geotiff-file-format/\" target=\"_blank\">this earth data science textbook lesson.</a>. Learn more about working with HDF4 files (the format used to store MODIS data) in <a href=\"https://www.earthdatascience.org/courses/use-data-open-source-python/hierarchical-data-formats-hdf/intro-to-hdf4/\" target=\"_blank\">this earth data science textbook chapter.</a>\n",
    "</div>\n",
    "\n",
    "## What Types of Data Are Stored In Rasters?  \n",
    "\n",
    "Some examples of data that often are provided in a raster format include:\n",
    "\n",
    "- Satellite imagery\n",
    "- Land use over large areas\n",
    "- Elevation data\n",
    "- Weather data\n",
    "- Bathymetry data\n",
    "\n",
    "Next you will open and work with some raster data. To begin\n",
    "setup your notebook with the required python packages."
   ]
  },
  {
   "cell_type": "code",
   "execution_count": null,
   "metadata": {},
   "outputs": [],
   "source": [
    "# Import necessary packages\n",
    "import os\n",
    "import matplotlib.pyplot as plt\n",
    "import numpy as np\n",
    "import geopandas as gpd\n",
    "import rasterio as rio\n",
    "\n",
    "# Package created for the earth analytics program\n",
    "import earthpy as et\n",
    "import earthpy.plot as ep\n",
    "\n",
    "# Get data and set working directory\n",
    "et.data.get_data(\"colorado-flood\")\n",
    "os.chdir(os.path.join(et.io.HOME, 'earth-analytics', 'data'))"
   ]
  },
  {
   "cell_type": "markdown",
   "metadata": {},
   "source": [
    "## Open Raster Data in Open Source Python Using Rasterio\n",
    "\n",
    "You can open raster data in **Python** using `rasterio`. The code below can \n",
    "be used to open up a raster file:  \n",
    "\n",
    "```python\n",
    "# Create a connection to the file\n",
    "with rio.open(lidar_dem_path) as src:\n",
    "    # Read the data in and call it lidar_dtm (this is the variable name)\n",
    "    lidar_dtm = src.read(1)\n",
    "```\n",
    "\n",
    "The code does the following:\n",
    "\n",
    "1. `rio.open()` - rio is the alias for rasterio. In the first cell of this notebook\n",
    "you include rasterio: `import rasterio as rio`. \n",
    "2. `open()` creates a connection to the file on your computer\n",
    "3. on the second line, `src.read()` reads the data into python so that you can \n",
    "use the data in your code. \n",
    "4. `masked=True` in your `.read()` statement will mask all `nodata` values in your array. This means that they will not be plotted and also that they will not be included in math calculations in `Python`.  \n",
    "\n",
    "\n",
    "The data that you will work with below - filename: `pre_DTM.tif` is lidar \n",
    "(Light Detection and Ranging) derived elevation data. The file format is a \n",
    "**.tif** file. The data represent a Digital Terrain Model (DTM). You can \n",
    "<a href=\"https://www.earthdatascience.org/courses/use-data-open-source-python/data-stories/what-is-lidar-data/lidar-chm-dem-dsm/\">learn more about DTMs in this earth data science lesson on lidar data.</a> \n",
    "\n",
    "<div class='notice--success alert alert-info' markdown=\"1\">\n",
    "\n",
    "<i class=\"fa fa-star\"></i> **Data Tip:** For larger raster data processing\n",
    "it is common to use xarray which is incorporates some of rasterio's functionality but also supports big data processing.\n",
    "</div>\n",
    "\n",
    "Below, you create a path to the file you want to open. "
   ]
  },
  {
   "cell_type": "code",
   "execution_count": null,
   "metadata": {},
   "outputs": [],
   "source": [
    "# Create a path to file\n",
    "lidar_dtm_path = os.path.join(\"colorado-flood\", \n",
    "                              \"spatial\",\n",
    "                              \"boulder-leehill-rd\", \n",
    "                              \"pre-flood\", \n",
    "                              \"lidar\",\n",
    "                              \"pre_DTM.tif\")\n",
    "lidar_dtm_path"
   ]
  },
  {
   "cell_type": "markdown",
   "metadata": {},
   "source": [
    "Next, open up your data."
   ]
  },
  {
   "cell_type": "code",
   "execution_count": null,
   "metadata": {},
   "outputs": [],
   "source": [
    "# Open and read in the digital terrain model\n",
    "# Note that rio is the alias for rasterio\n",
    "with rio.open(lidar_dtm_path) as src:\n",
    "    lidar_dtm = src.read(1, masked=True)\n",
    "\n",
    "# View the data - notice the structure is different from what geopandas data\n",
    "# which you explored in the last lesson\n",
    "lidar_dtm"
   ]
  },
  {
   "cell_type": "markdown",
   "metadata": {},
   "source": [
    "You may notice that the code above used to \n",
    "open a raster file is a bit more complex than the code that you used to open \n",
    "vector files (shapefiles) with geopandas or tabular data with pandas. The \n",
    "`with rio.open()` statement creates what is called a context manager for opening \n",
    "files. This allows you to create a connection to the file without modifying \n",
    "the file itself. You can learn more about context managers in the \n",
    "<a href=\"https://www.earthdatascience.org/courses/use-data-open-source-python/intro-raster-data-python/fundamentals-raster-data/open-lidar-raster-python/\">raster data in \n",
    "python chapter in the earth data science intermediate textbook</a>\n",
    "\n",
    "## Explore Raster Data Values & Structure \n",
    "\n",
    "Next, have a look at the data. Notice that the data structure of `type()` of \n",
    "Python object returned by rasterio is a numpy array. Numpy arrays are an\n",
    "efficient way to store and work with raster data in python. You will learn \n",
    "more about working with numpy arrays \n",
    "<a href=\"https://www.earthdatascience.org/courses/intro-to-earth-data-science/scientific-data-structures-python/numpy-arrays/\">in the numpy array chapter of the introduction to earth data \n",
    "science textbook</a>\n"
   ]
  },
  {
   "cell_type": "code",
   "execution_count": null,
   "metadata": {},
   "outputs": [],
   "source": [
    "type(lidar_dtm)"
   ]
  },
  {
   "cell_type": "code",
   "execution_count": null,
   "metadata": {},
   "outputs": [],
   "source": [
    "# View the min and max values of the array\n",
    "print(lidar_dtm.min(), lidar_dtm.max())"
   ]
  },
  {
   "cell_type": "code",
   "execution_count": null,
   "metadata": {},
   "outputs": [],
   "source": [
    "# View the dimensions of the array (rows, columns)\n",
    "lidar_dtm.shape"
   ]
  },
  {
   "cell_type": "markdown",
   "metadata": {},
   "source": [
    "Finally you can plot your data. For plotting you will use `earthpy.plot_bands`."
   ]
  },
  {
   "cell_type": "code",
   "execution_count": null,
   "metadata": {
    "lines_to_next_cell": 2
   },
   "outputs": [],
   "source": [
    "ep.plot_bands(lidar_dtm, \n",
    "              scale=False, \n",
    "              cmap='Greys',\n",
    "             title=\"Lidar Digital Terrain Model\")\n",
    "plt.show()"
   ]
  },
  {
   "cell_type": "markdown",
   "metadata": {},
   "source": [
    "<div class=\"notice--warning alert alert-info\" markdown=\"1\">\n",
    "\n",
    "## <i class=\"fa fa-pencil-square-o\" aria-hidden=\"true\"></i> Challenge:  Explore Elevation Data Values\n",
    "\n",
    "Look closely at the plot above. What do you think the colors and numbers \n",
    "represent in the plot? \n",
    "\n",
    "What units do the numbers represents?\n",
    "</div>"
   ]
  },
  {
   "cell_type": "markdown",
   "metadata": {},
   "source": [
    "<div class=\"notice--warning alert alert-info\" markdown=\"1\">\n",
    "\n",
    "## <i class=\"fa fa-pencil-square-o\" aria-hidden=\"true\"></i> Challenge:  Open a Raster Dataset\n",
    "\n",
    "The above lidar DTM that you opened represents a dataset produced before a flood occurred in 2013 in Colorado. A path to a second lidar dataset which is for the same area but from data collected after the flood is below. \n",
    "\n",
    "Use the code below to create a path to the post-flood data. \n",
    "Then do the following using the code above as a guide to open and plot \n",
    "your data:\n",
    "\n",
    "1. Use `rasterio` to open the data as a numpy array following the code \n",
    "that you used above\n",
    "2. View the min and max data values for the output numpy array\n",
    "3. Create a plot of the data\n",
    "\n",
    "```python\n",
    "# Add the code here to open, show, and close the raster dataset.\n",
    "\n",
    "lidar_dem_path_post_flood = os.path.join(\"data\", \"colorado-flood\", \"spatial\",\n",
    "                                         \"boulder-leehill-rd\", \"post-flood\", \"lidar\",\n",
    "                                         \"post_DTM.tif\")\n",
    "```\n",
    "\n",
    "Hint: Don't forget to use `rio.open()` and assign the output to a variable!\n",
    "</div>\n"
   ]
  },
  {
   "cell_type": "code",
   "execution_count": null,
   "metadata": {
    "lines_to_next_cell": 2
   },
   "outputs": [],
   "source": [
    "# Add the code to open and plot your data here"
   ]
  },
  {
   "cell_type": "markdown",
   "metadata": {},
   "source": [
    "## Imagery - Another Type of Raster Data \n",
    "\n",
    "Another type of raster data that you may see is imagery. \n",
    "If you have used Google Maps or another mapping tool that has an imagery layer,\n",
    "you are looking at raster data. You can open and plot imagery data using Python \n",
    "as well.\n",
    "\n",
    "Below you download and open up some NAIP data that were collected before a fire that occured\n",
    "close to Nederland, Colorado.\n",
    "\n",
    "<div class='notice--success alert alert-info' markdown=\"1\">\n",
    "\n",
    "<i class=\"fa fa-star\"></i> **Data Tip:**  NAIP data is imagery collected by the United \n",
    "States Department of Agriculture every 2 years across the United \n",
    "States. Learn more about \n",
    "NAIP data in <a href=\"https://www.earthdatascience.org/courses/use-data-open-source-python/multispectral-remote-sensing/intro-naip/\">this chapter of the earth data science intermediate \n",
    "textbook. </a>\n",
    "</div>"
   ]
  },
  {
   "cell_type": "code",
   "execution_count": null,
   "metadata": {
    "lines_to_next_cell": 2
   },
   "outputs": [],
   "source": [
    "# Download NAIP data\n",
    "et.data.get_data(url=\"https://ndownloader.figshare.com/files/23070791\")"
   ]
  },
  {
   "cell_type": "code",
   "execution_count": null,
   "metadata": {},
   "outputs": [],
   "source": [
    "# Create a path for the data file - notice it is a .tif file\n",
    "naip_pre_fire_path = os.path.join(\"earthpy-downloads\",\n",
    "                             \"naip-before-after\",\n",
    "                             \"pre-fire\",\n",
    "                             \"crop\",\n",
    "                             \"m_3910505_nw_13_1_20150919_crop.tif\")\n",
    "\n",
    "naip_pre_fire_path"
   ]
  },
  {
   "cell_type": "code",
   "execution_count": null,
   "metadata": {},
   "outputs": [],
   "source": [
    "# Open the data using rasterio\n",
    "with rio.open(naip_pre_fire_path) as naip_prefire_src:\n",
    "    naip_pre_fire = naip_prefire_src.read()\n",
    "    \n",
    "naip_pre_fire"
   ]
  },
  {
   "cell_type": "markdown",
   "metadata": {},
   "source": [
    "Plotting imagery is a bit different because imagery is composed of multiple \n",
    "bands. While we won't get into the specifics of bands and images in this lesson, \n",
    "you can see below that an image is composed of multiple layers of information.\n",
    "\n",
    "You can plot each band individually as you see below using `plot_bands()`. \n",
    "Or you can plot a color image,\n",
    "similar to the image that your camera stores when you take a picture."
   ]
  },
  {
   "cell_type": "code",
   "execution_count": null,
   "metadata": {},
   "outputs": [],
   "source": [
    "# Plot each layer or band of the image separately\n",
    "ep.plot_bands(naip_pre_fire, figsize=(10,5))\n",
    "plt.show()"
   ]
  },
  {
   "cell_type": "code",
   "execution_count": null,
   "metadata": {},
   "outputs": [],
   "source": [
    "# Plot color image\n",
    "ep.plot_rgb(naip_pre_fire,\n",
    "           title=\"naip data pre-fire\")\n",
    "plt.show()"
   ]
  },
  {
   "cell_type": "markdown",
   "metadata": {},
   "source": [
    "<div class=\"notice--warning alert alert-info\" markdown=\"1\">\n",
    "\n",
    "## <i class=\"fa fa-pencil-square-o\" aria-hidden=\"true\"></i> Challenge:  Plot NAIP Imagery Post Fire \n",
    "\n",
    "In the cell below, you see a path to a NAIP dataset that was collected \n",
    "after the fire in Colorado. Use that path to:\n",
    "\n",
    "1. Open the post fire data\n",
    "2. Plot a color version of data using `plot_rgb()`\n",
    "\n",
    "</div>\n"
   ]
  },
  {
   "cell_type": "code",
   "execution_count": null,
   "metadata": {
    "lines_to_next_cell": 2
   },
   "outputs": [],
   "source": [
    "# Add the code here to open the raster and read the numpy array inside it\n",
    "# Create a path for the data file - notice it is a .tif file\n",
    "naip_post_fire_path = os.path.join(\"earthpy-downloads\",\n",
    "                             \"naip-before-after\",\n",
    "                             \"post-fire\",\n",
    "                             \"crop\",\n",
    "                             \"m_3910505_nw_13_1_20170902_crop.tif\")\n",
    "\n",
    "naip_post_fire_path"
   ]
  },
  {
   "cell_type": "code",
   "execution_count": null,
   "metadata": {
    "lines_to_next_cell": 2
   },
   "outputs": [],
   "source": [
    "# Add the code needed to open and plot the NAIP post fire data here\n",
    "\n"
   ]
  }
 ],
 "metadata": {
  "anaconda-cloud": {},
  "jupytext": {
   "encoding": "# -*- coding: utf-8 -*-",
   "formats": "ipynb,py:percent"
  },
  "kernelspec": {
   "display_name": "Python 3",
   "language": "python",
   "name": "python3"
  },
  "language_info": {
   "codemirror_mode": {
    "name": "ipython",
    "version": 3
   },
   "file_extension": ".py",
   "mimetype": "text/x-python",
   "name": "python",
   "nbconvert_exporter": "python",
   "pygments_lexer": "ipython3",
   "version": "3.7.6"
  },
  "toc": {
   "base_numbering": 1,
   "nav_menu": {},
   "number_sections": true,
   "sideBar": true,
   "skip_h1_title": false,
   "title_cell": "Table of Contents",
   "title_sidebar": "Contents",
   "toc_cell": false,
   "toc_position": {},
   "toc_section_display": true,
   "toc_window_display": true
  },
  "varInspector": {
   "cols": {
    "lenName": 16,
    "lenType": 16,
    "lenVar": 40
   },
   "kernels_config": {
    "python": {
     "delete_cmd_postfix": "",
     "delete_cmd_prefix": "del ",
     "library": "var_list.py",
     "varRefreshCmd": "print(var_dic_list())"
    },
    "r": {
     "delete_cmd_postfix": ") ",
     "delete_cmd_prefix": "rm(",
     "library": "var_list.r",
     "varRefreshCmd": "cat(var_dic_list()) "
    }
   },
   "types_to_exclude": [
    "module",
    "function",
    "builtin_function_or_method",
    "instance",
    "_Feature"
   ],
   "window_display": false
  }
 },
 "nbformat": 4,
 "nbformat_minor": 2
}
