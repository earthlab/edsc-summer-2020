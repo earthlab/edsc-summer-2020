{
 "cells": [
  {
   "cell_type": "markdown",
   "metadata": {},
   "source": [
    "<img style=\"float: left;\" src=\"../earth-lab-logo-rgb.png\" width=\"150\" height=\"150\">\n",
    "\n",
    "# Earth Data Science Corps Summer 2020\n",
    "\n",
    "![Colored Bar](../colored-bar.png)\n",
    "\n",
    "## Earth Science Data Types Exercises \n",
    "\n",
    "Now that you have learned how to open and manipulate certain types of geospatial data in **Python**, it's time to test your skills! Complete the activites below. Feel free to work together with a colleague or friend! "
   ]
  },
  {
   "cell_type": "code",
   "execution_count": null,
   "metadata": {},
   "outputs": [],
   "source": [
    "# Importing packages needed to complete this lesson\n",
    "import os\n",
    "import pandas as pd\n",
    "import geopandas as gpd\n",
    "import matplotlib.pyplot as plt\n",
    "import earthpy as et"
   ]
  },
  {
   "cell_type": "code",
   "execution_count": null,
   "metadata": {},
   "outputs": [],
   "source": [
    "# Test cell - do not modify -- \n",
    "home_dir = os.path.join(et.io.HOME, 'earth-analytics', 'data', 'earthpy-downloads')\n",
    "if not os.path.isdir(home_dir):\n",
    "    os.makedirs(home_dir)\n",
    "\n",
    "# Set your working directory\n",
    "os.chdir(os.path.join(et.io.HOME, \n",
    "                      'earth-analytics', \n",
    "                      'data', \n",
    "                      'earthpy-downloads'))"
   ]
  },
  {
   "cell_type": "markdown",
   "metadata": {},
   "source": [
    "<div class=\"notice--warning alert alert-info\" markdown=\"1\">\n",
    "\n",
    "## <i class=\"fa fa-pencil-square-o\" aria-hidden=\"true\"></i> Challenge 1: Open a Text File\n",
    "\n",
    "Use the code below to download a `.csv` file containing data for the \n",
    "climbing formations in the Boulder, Colorado: \n",
    "\n",
    "`et.data.get_data(url=\"https://opendata.arcgis.com/datasets/175425c25d8849b58feb89483ef02961_1.csv\")`\n",
    "\n",
    "Once you have downloaded the data:\n",
    "\n",
    "1. Read the data into **Python** as a **pandas** `DataFrame`. IMPORTANT: Name your dataframe object **boulder_climbing**.\n",
    "2. View the pandas `DataFrame`. Look at the columns in the data. Find the `FormationType` column. Notice how it's categorically split between two different types of formations.  \n",
    "</div>"
   ]
  },
  {
   "cell_type": "code",
   "execution_count": null,
   "metadata": {},
   "outputs": [],
   "source": [
    "# Download the data that you will use in this lesson\n",
    "et.data.get_data(url=\"https://opendata.arcgis.com/datasets/175425c25d8849b58feb89483ef02961_1.csv\")\n"
   ]
  },
  {
   "cell_type": "code",
   "execution_count": null,
   "metadata": {},
   "outputs": [],
   "source": [
    "# This cell will clean up your file name - don't modify it!\n",
    "# This is a temporary fix for a bug in our earthpy package!\n",
    "old_name_climb = '\"OSMP_Climbing_Formations.csv\"'\n",
    "new_name_climb = 'OSMP_Climbing_Formations.csv'\n",
    "if not os.path.exists(new_name_climb):\n",
    "    os.rename(old_name_climb, new_name_climb)\n",
    "    "
   ]
  },
  {
   "cell_type": "markdown",
   "metadata": {},
   "source": [
    "IMPORTANT. When you download the data, you may notice that there are quotes \n",
    "around the file name like this: `\"OSMP_Climbing_Formations.csv\"`. You \n",
    "will need to call"
   ]
  },
  {
   "cell_type": "code",
   "execution_count": null,
   "metadata": {
    "scrolled": false
   },
   "outputs": [],
   "source": [
    "# Read in the data and view the first few rows of data\n"
   ]
  },
  {
   "cell_type": "markdown",
   "metadata": {},
   "source": [
    "## How to Convert x,y Coordinate Data To A GeoDataFrame (or shapefile) - Spatial Data in Tabular Formats\n",
    "\n",
    "Often you will find that tabular data, stored in a text or\n",
    "spreadsheet format, contains spatial coordinate information\n",
    "that you wish to plot or convert to a shapefile for use \n",
    "in a GIS application. In the challenge below, you will learn \n",
    "how to convert tabular data containing coordinate information\n",
    "into a spatial file."
   ]
  },
  {
   "cell_type": "markdown",
   "metadata": {},
   "source": [
    "<div class=\"notice--warning alert alert-info\" markdown=\"1\">\n",
    "\n",
    "## <i class=\"fa fa-pencil-square-o\" aria-hidden=\"true\"></i> Challenge 2: Create a Spatial GeoDataframe From a DataFrame \n",
    "\n",
    "You can create a Geopandas `GeoDataFrame` from a Pandas `DataFrame` if there is coordinate data in the DataFrame. \n",
    "In the data that you opened above, there are columns for the `X` and `Y` coordinates of each rock formation - with headers named `X` and `Y`. \n",
    "\n",
    "You can convert columns containing **x,y** coordinate data using the **GeoPandas**  `points_from_xy()` function as follows:\n",
    "\n",
    "`coordinates = gpd.points_from_xy(column-with-x-data, column-with-y-data.Y)`\n",
    "\n",
    "You can then set the geometry column for the new GeoDataFrame \n",
    "to the **x,y** data that you extracted from the data frame. \n",
    "\n",
    "```python\n",
    "gpd.GeoDataFrame(data=boulder_climbing, \n",
    "                 geometry=coordinates)\n",
    "```\n",
    "\n",
    "`GeoDataFrame`. Copy the code below to create a new GeoDataFrame containing the boulder climbing area data in a spatial format that you can plot. \n",
    "\n",
    "IMPORTANT: be sure to assign the output of the code below to a new variable\n",
    "name called `boulder_climbing_gdf`.\n",
    "\n",
    "```python\n",
    "\n",
    "coordinates = gpd.points_from_xy(boulder_climbing.X, boulder_climbing.Y)\n",
    "gpd.GeoDataFrame(data=boulder_climbing, \n",
    "                 geometry=coordinates)\n",
    "```\n",
    "\n",
    "In the cell below:\n",
    "\n",
    "1. Copy the code above to create a `GeoDataFrame` from the `DataFrame` that you created above. \n",
    "2. Next, plot your data using `.plot()`\n",
    "\n",
    "</div>"
   ]
  },
  {
   "cell_type": "code",
   "execution_count": null,
   "metadata": {},
   "outputs": [],
   "source": [
    "# Create your geodataframe\n"
   ]
  },
  {
   "cell_type": "markdown",
   "metadata": {},
   "source": [
    "\n",
    "<div class='notice--success alert alert-info' markdown=\"1\">\n",
    "\n",
    "<i class=\"fa fa-star\"></i> **Data Tip:** You can easily export data\n",
    "in a GeoPandas format to a shapefile using `object_name_here.to_file(\"file-name-here.shp\")`. Following the example above, if you want to export a shapefile called boulder-climbing.shp, your code would look like\n",
    "this: `boulder_climbing_gdf.to_file(\"boulder-climbing.shp\")`. \n",
    "</div>\n"
   ]
  },
  {
   "cell_type": "markdown",
   "metadata": {},
   "source": [
    "<div class=\"notice--warning alert alert-info\" markdown=\"1\">\n",
    "\n",
    "## <i class=\"fa fa-pencil-square-o\" aria-hidden=\"true\"></i> Challenge 3: Create a Base Map\n",
    "\n",
    "Next, you will create a basemap. Run cell below to download another file for boulder. Notice that the data this time are in `geojson` format\n",
    "rather than a shapefile. Even though the format is different, the data can be worked with using Geopandas in the same way that you would work with \n",
    "a shapefile using `read_file()`. \n",
    "\n",
    "The data file is:  \n",
    "\n",
    "`et.data.get_data(url=\"https://opendata.arcgis.com/datasets/955e7a0f52474b60a9866950daf10acb_0.geojson\")`\n",
    "\n",
    "The cell below downloads and cleans up the file name. Please don't \n",
    "modify it.\n",
    "</div>"
   ]
  },
  {
   "cell_type": "code",
   "execution_count": null,
   "metadata": {},
   "outputs": [],
   "source": [
    "# Do not modify this cell\n",
    "et.data.get_data(url=\"https://opendata.arcgis.com/datasets/955e7a0f52474b60a9866950daf10acb_0.geojson\")\n",
    "\n",
    "# This cell will clean up your file name - don't modify it!\n",
    "# This is a temporary fix for a bug in our earthpy package!\n",
    "old_name_city = '\"City_Limits.geojson\"'\n",
    "new_name_city = 'City_Limits.geojson'\n",
    "if not os.path.exists(new_name_city):\n",
    "    os.rename(old_name_city,new_name_city)\n"
   ]
  },
  {
   "cell_type": "code",
   "execution_count": null,
   "metadata": {},
   "outputs": [],
   "source": [
    "# In this cell, open up and plot the `City_Limits.geojson` geojson file\n"
   ]
  },
  {
   "cell_type": "markdown",
   "metadata": {},
   "source": [
    "<div class=\"notice--warning alert alert-info\" markdown=\"1\">\n",
    "\n",
    "## <i class=\"fa fa-pencil-square-o\" aria-hidden=\"true\"></i> Challenge 4: Plot Two GeoDataFrames Together in the Same Figure\n",
    "\n",
    "Previously, you learned how to plot multiple shapefiles or spatial\n",
    "layers on the same map using **matplotlib**.\n",
    "\n",
    "1. Use what you learned in the spatial vector lesson in this chapter to plot the climbing formations points layer on top of the cities boundary that you opened above. \n",
    "2. Use the `edgecolor=` and the `color=` parameters to change the colors of the city object. (example: color=\"white\", edgecolor=\"grey\")\n",
    "3. Use `legend=True` to add a legend to your map.\n",
    "4. Set `column='FormationType'` to plot your points according tot he type of climbing formation it is (Boulder vs Wall).\n",
    "\n",
    "HINT: Refer back to the vector lesson if you forget how to create your plot!\n",
    "</div>"
   ]
  },
  {
   "cell_type": "code",
   "execution_count": null,
   "metadata": {
    "scrolled": true
   },
   "outputs": [],
   "source": [
    "# Add your code to plot the data here\n"
   ]
  },
  {
   "cell_type": "markdown",
   "metadata": {},
   "source": [
    "<div class=\"notice--warning alert alert-info\" markdown=\"1\">\n",
    "\n",
    "## <i class=\"fa fa-pencil-square-o\" aria-hidden=\"true\"></i> Challenge 5: Customize Your Map\n",
    "\n",
    "Next, you will customize the map that you created above. \n",
    "Here's what you need to do to spruce up your map:\n",
    "\n",
    "\n",
    "1. Add a title to your map using `ax.set_title()`. \n",
    "2. Set the `figsize` of the map to be larger so the data is more clearly shown. The `figsize` is one of the arguments in `plt.subplots` and needs to be set to a **tuple** of numbers. For example: `plt.subplots(figsize=(10, 10)`. \n",
    "3. Turn off the x and y axis data ticks to make the plot look more like a map using: `ax.set_axis_off()`.\n",
    "4. Customize the colors of the city boundary using the parameters: `color=\"color-name-here\"` to change the color of the fill of the polygon. Use `edgecolor=\"color-name-here\"` to change the outline color of the polygon. HINT: you may want to set `color=\"white\"` for the polygon and make the edgecolor a darker color so you have a clean outline. \n",
    "5. Play around with modifying the markers for the points. The marker is the symbol used to represent the x,y location. The default marker is a circle. Modify the `marker=` and `markersize=` parameters in the `plot()` function for the climbing formations in order to make it more legible. Here is a list of marker options in matplotlib: https://matplotlib.org/3.2.1/api/markers_api.html. \n",
    "\n",
    "Examples of modifying the marker and marker size: \n",
    "\n",
    "`object.plot(marker=\"*\", markersize=5)`\n",
    "\n",
    "---------\n",
    "\n",
    "OPTIONAL: See what happens when you use the `cmap=\"Greens\"` argument.\n",
    "\n",
    "HINT: see this documentation to learn more about color maps in python: https://matplotlib.org/3.2.1/tutorials/colors/colormaps.html\n",
    "\n",
    "--------\n",
    "Have fun customizing your map!\n",
    "\n",
    "</div>"
   ]
  },
  {
   "cell_type": "code",
   "execution_count": null,
   "metadata": {},
   "outputs": [],
   "source": [
    "# Add your code here to plot the data\n"
   ]
  },
  {
   "cell_type": "markdown",
   "metadata": {},
   "source": [
    "## OPTIONAL: Interactive Spatial Maps Using Folium\n",
    "\n",
    "Above you created maps that were static that you could not interact with.\n",
    "You can make interactive maps with Python in Jupyter Notebooks too\n",
    "using the **Folium** package. \n",
    "\n",
    "Set your GeoDataFrame name for your climbing formations to the variable specified in the cell below, `climbing_locations`. \n",
    "\n",
    "```\n",
    "import folium\n",
    "\n",
    "#Define coordinates of where we want to center our map\n",
    "map_center_coords = [40.015, -105.2705]\n",
    "\n",
    "#Create the map\n",
    "my_map = folium.Map(location = map_center_coords, zoom_start = 13)\n",
    "\n",
    "for lat,long in zip(climbing_locations.geometry.y, climbing_locations.geometry.x):\n",
    "    folium.Marker(\n",
    "        location=[lat, long],\n",
    "    ).add_to(my_map)\n",
    "\n",
    "my_map\n",
    "\n",
    "```\n",
    "and run it in the cell below to see what happens! \n",
    "\n",
    "More reading on how to use **Folium** [here](https://www.earthdatascience.org/tutorials/introduction-to-leaflet-animated-maps/)"
   ]
  },
  {
   "cell_type": "code",
   "execution_count": null,
   "metadata": {},
   "outputs": [],
   "source": [
    "# In this cell, uncomment the line below.\n",
    "# This should set your GeoDataFrame to our \n",
    "# variable name to make the code with folium run\n",
    "\n",
    "# climbing_locations = your_climbing_geodataframe_name_here"
   ]
  },
  {
   "cell_type": "code",
   "execution_count": null,
   "metadata": {},
   "outputs": [],
   "source": [
    "# Copy the code above and paste is in this cell below\n",
    "\n"
   ]
  },
  {
   "cell_type": "markdown",
   "metadata": {},
   "source": [
    "<div class=\"notice--warning alert alert-info\" markdown=\"1\">\n",
    "\n",
    "## <i class=\"fa fa-pencil-square-o\" aria-hidden=\"true\"></i> BONUS Challenge: Clip Climbing Formations to the City of Boulder\n",
    "\n",
    "In the vector notebook, you learned how to clip spatial data. In the cell \n",
    "below, do the following:\n",
    "\n",
    "1. Clip the climbing formations to the boundary of the city of Boulder. \n",
    "2. Plot the clipped points on top of the city boundary. \n",
    "</div>\n",
    "\n",
    "If you want, you could create another folium map of the clipped data!"
   ]
  },
  {
   "cell_type": "code",
   "execution_count": null,
   "metadata": {},
   "outputs": [],
   "source": [
    "# Place your code to clip and plot your data here\n",
    "# It's fine to make new cells below if you wish!\n"
   ]
  }
 ],
 "metadata": {
  "kernelspec": {
   "display_name": "Python 3",
   "language": "python",
   "name": "python3"
  },
  "language_info": {
   "codemirror_mode": {
    "name": "ipython",
    "version": 3
   },
   "file_extension": ".py",
   "mimetype": "text/x-python",
   "name": "python",
   "nbconvert_exporter": "python",
   "pygments_lexer": "ipython3",
   "version": "3.7.6"
  },
  "toc": {
   "base_numbering": 1,
   "nav_menu": {},
   "number_sections": true,
   "sideBar": true,
   "skip_h1_title": false,
   "title_cell": "Table of Contents",
   "title_sidebar": "Contents",
   "toc_cell": false,
   "toc_position": {
    "height": "calc(100% - 180px)",
    "left": "10px",
    "top": "150px",
    "width": "205.467px"
   },
   "toc_section_display": true,
   "toc_window_display": true
  }
 },
 "nbformat": 4,
 "nbformat_minor": 4
}
